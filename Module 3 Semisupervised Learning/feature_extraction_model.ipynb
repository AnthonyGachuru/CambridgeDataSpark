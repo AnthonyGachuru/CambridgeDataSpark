{
 "cells": [
  {
   "cell_type": "code",
   "execution_count": 1,
   "metadata": {},
   "outputs": [],
   "source": [
    "# standard imports\n",
    "import pandas as pd\n",
    "import numpy as np\n",
    "from datetime import datetime\n",
    "import ast"
   ]
  },
  {
   "cell_type": "code",
   "execution_count": 2,
   "metadata": {},
   "outputs": [],
   "source": [
    "# plotting\n",
    "import matplotlib as plt\n",
    "%matplotlib inline\n",
    "import seaborn as sea"
   ]
  },
  {
   "cell_type": "code",
   "execution_count": 3,
   "metadata": {},
   "outputs": [],
   "source": [
    "# Scalers\n",
    "from sklearn.preprocessing import StandardScaler\n",
    "from sklearn.preprocessing import RobustScaler"
   ]
  },
  {
   "cell_type": "code",
   "execution_count": 4,
   "metadata": {},
   "outputs": [],
   "source": [
    "# clustering libraries\n",
    "from sklearn.model_selection import train_test_split\n",
    "from sklearn.neighbors import KNeighborsClassifier\n",
    "from sklearn.metrics import confusion_matrix, classification_report"
   ]
  },
  {
   "cell_type": "code",
   "execution_count": 5,
   "metadata": {},
   "outputs": [],
   "source": [
    "# Hyper Parameter tuning\n",
    "from sklearn.model_selection import GridSearchCV"
   ]
  },
  {
   "cell_type": "code",
   "execution_count": 6,
   "metadata": {},
   "outputs": [],
   "source": [
    "def knn_func(features, target, num_neighbors=5):\n",
    "    x_train, x_test, y_train, y_test = train_test_split(features, target, \n",
    "                                                    test_size=0.3, random_state=5175,\n",
    "                                                    stratify=target)\n",
    "\n",
    "    knn = KNeighborsClassifier(n_neighbors=num_neighbors)\n",
    "\n",
    "    knn.fit(x_train, y_train)\n",
    "\n",
    "    y_test_pred = knn.predict(x_test)\n",
    "\n",
    "    print(\"The confusion matrix: \\n\")\n",
    "    print(confusion_matrix(y_test, y_test_pred))\n",
    "    print(\"\\nThe classification report:\\n\")\n",
    "    print(classification_report(y_test, y_test_pred, digits=3))"
   ]
  },
  {
   "cell_type": "code",
   "execution_count": 7,
   "metadata": {},
   "outputs": [],
   "source": [
    "#kick_train_data = pd.read_csv(\"data/kick_train.csv\")\n",
    "#kick_train_data.columns"
   ]
  },
  {
   "cell_type": "code",
   "execution_count": 8,
   "metadata": {},
   "outputs": [
    {
     "name": "stdout",
     "output_type": "stream",
     "text": [
      "['blurb', 'goal', 'state', 'disable_communication', 'country', 'deadline', 'state_changed_at', 'created_at', 'launched_at', 'static_usd_rate', 'category', 'profile']\n"
     ]
    }
   ],
   "source": [
    "colnamestokeep = ['blurb','goal','state','disable_communication','country','deadline']\n",
    "colnamestokeep2 = ['state_changed_at','created_at','launched_at','static_usd_rate','category','profile']\n",
    "fulllist = colnamestokeep + colnamestokeep2\n",
    "print(fulllist)\n",
    "kick_train_data = pd.read_csv(\"data/kick_train.csv\", usecols=fulllist,names=['Unnamed: 0', 'id', 'photo', 'name', 'blurb', 'goal', 'state', 'slug',\n",
    "       'disable_communication', 'country', 'currency', 'currency_symbol',\n",
    "       'currency_trailing_code', 'deadline', 'state_changed_at', 'created_at',\n",
    "       'launched_at', 'staff_pick', 'backers_count', 'static_usd_rate',\n",
    "       'creator', 'location', 'category', 'profile', 'urls', 'source_url',\n",
    "       'friends', 'is_starred', 'is_backing', 'permissions'],header=0,skipinitialspace=True)"
   ]
  },
  {
   "cell_type": "code",
   "execution_count": 9,
   "metadata": {},
   "outputs": [
    {
     "data": {
      "text/html": [
       "<div>\n",
       "<style scoped>\n",
       "    .dataframe tbody tr th:only-of-type {\n",
       "        vertical-align: middle;\n",
       "    }\n",
       "\n",
       "    .dataframe tbody tr th {\n",
       "        vertical-align: top;\n",
       "    }\n",
       "\n",
       "    .dataframe thead th {\n",
       "        text-align: right;\n",
       "    }\n",
       "</style>\n",
       "<table border=\"1\" class=\"dataframe\">\n",
       "  <thead>\n",
       "    <tr style=\"text-align: right;\">\n",
       "      <th></th>\n",
       "      <th>blurb</th>\n",
       "      <th>goal</th>\n",
       "      <th>state</th>\n",
       "      <th>disable_communication</th>\n",
       "      <th>country</th>\n",
       "      <th>deadline</th>\n",
       "      <th>state_changed_at</th>\n",
       "      <th>created_at</th>\n",
       "      <th>launched_at</th>\n",
       "      <th>static_usd_rate</th>\n",
       "      <th>category</th>\n",
       "      <th>profile</th>\n",
       "    </tr>\n",
       "  </thead>\n",
       "  <tbody>\n",
       "    <tr>\n",
       "      <th>0</th>\n",
       "      <td>Angular is a minimalist card design for simpli...</td>\n",
       "      <td>17380.0</td>\n",
       "      <td>failed</td>\n",
       "      <td>False</td>\n",
       "      <td>US</td>\n",
       "      <td>1459283229</td>\n",
       "      <td>1459283230</td>\n",
       "      <td>1455845363</td>\n",
       "      <td>1456694829</td>\n",
       "      <td>1.000000</td>\n",
       "      <td>{\"urls\":{\"web\":{\"discover\":\"http://www.kicksta...</td>\n",
       "      <td>{\"background_image_opacity\":0.8,\"should_show_f...</td>\n",
       "    </tr>\n",
       "    <tr>\n",
       "      <th>1</th>\n",
       "      <td>Original songs and music videos to jump start ...</td>\n",
       "      <td>24000.0</td>\n",
       "      <td>failed</td>\n",
       "      <td>False</td>\n",
       "      <td>US</td>\n",
       "      <td>1484110800</td>\n",
       "      <td>1484110800</td>\n",
       "      <td>1475568868</td>\n",
       "      <td>1480946454</td>\n",
       "      <td>1.000000</td>\n",
       "      <td>{\"urls\":{\"web\":{\"discover\":\"http://www.kicksta...</td>\n",
       "      <td>{\"background_image_opacity\":0.8,\"should_show_f...</td>\n",
       "    </tr>\n",
       "    <tr>\n",
       "      <th>2</th>\n",
       "      <td>Our project is to launch a vegan lunch deliver...</td>\n",
       "      <td>40000.0</td>\n",
       "      <td>failed</td>\n",
       "      <td>False</td>\n",
       "      <td>CA</td>\n",
       "      <td>1408549628</td>\n",
       "      <td>1408549628</td>\n",
       "      <td>1405218883</td>\n",
       "      <td>1405957628</td>\n",
       "      <td>0.926746</td>\n",
       "      <td>{\"urls\":{\"web\":{\"discover\":\"http://www.kicksta...</td>\n",
       "      <td>{\"background_image_opacity\":0.8,\"should_show_f...</td>\n",
       "    </tr>\n",
       "    <tr>\n",
       "      <th>3</th>\n",
       "      <td>I have developed a process of my own which tra...</td>\n",
       "      <td>1000.0</td>\n",
       "      <td>successful</td>\n",
       "      <td>False</td>\n",
       "      <td>US</td>\n",
       "      <td>1364084914</td>\n",
       "      <td>1364084914</td>\n",
       "      <td>1360627778</td>\n",
       "      <td>1361496514</td>\n",
       "      <td>1.000000</td>\n",
       "      <td>{\"urls\":{\"web\":{\"discover\":\"http://www.kicksta...</td>\n",
       "      <td>{\"background_image_opacity\":0.8,\"should_show_f...</td>\n",
       "    </tr>\n",
       "    <tr>\n",
       "      <th>4</th>\n",
       "      <td>Need to pay an illustrator to bring my childre...</td>\n",
       "      <td>700.0</td>\n",
       "      <td>failed</td>\n",
       "      <td>False</td>\n",
       "      <td>GB</td>\n",
       "      <td>1382600001</td>\n",
       "      <td>1382600002</td>\n",
       "      <td>1379704502</td>\n",
       "      <td>1380008001</td>\n",
       "      <td>1.602384</td>\n",
       "      <td>{\"urls\":{\"web\":{\"discover\":\"http://www.kicksta...</td>\n",
       "      <td>{\"background_image_opacity\":0.8,\"should_show_f...</td>\n",
       "    </tr>\n",
       "  </tbody>\n",
       "</table>\n",
       "</div>"
      ],
      "text/plain": [
       "                                               blurb     goal       state  \\\n",
       "0  Angular is a minimalist card design for simpli...  17380.0      failed   \n",
       "1  Original songs and music videos to jump start ...  24000.0      failed   \n",
       "2  Our project is to launch a vegan lunch deliver...  40000.0      failed   \n",
       "3  I have developed a process of my own which tra...   1000.0  successful   \n",
       "4  Need to pay an illustrator to bring my childre...    700.0      failed   \n",
       "\n",
       "   disable_communication country    deadline  state_changed_at  created_at  \\\n",
       "0                  False      US  1459283229        1459283230  1455845363   \n",
       "1                  False      US  1484110800        1484110800  1475568868   \n",
       "2                  False      CA  1408549628        1408549628  1405218883   \n",
       "3                  False      US  1364084914        1364084914  1360627778   \n",
       "4                  False      GB  1382600001        1382600002  1379704502   \n",
       "\n",
       "   launched_at  static_usd_rate  \\\n",
       "0   1456694829         1.000000   \n",
       "1   1480946454         1.000000   \n",
       "2   1405957628         0.926746   \n",
       "3   1361496514         1.000000   \n",
       "4   1380008001         1.602384   \n",
       "\n",
       "                                            category  \\\n",
       "0  {\"urls\":{\"web\":{\"discover\":\"http://www.kicksta...   \n",
       "1  {\"urls\":{\"web\":{\"discover\":\"http://www.kicksta...   \n",
       "2  {\"urls\":{\"web\":{\"discover\":\"http://www.kicksta...   \n",
       "3  {\"urls\":{\"web\":{\"discover\":\"http://www.kicksta...   \n",
       "4  {\"urls\":{\"web\":{\"discover\":\"http://www.kicksta...   \n",
       "\n",
       "                                             profile  \n",
       "0  {\"background_image_opacity\":0.8,\"should_show_f...  \n",
       "1  {\"background_image_opacity\":0.8,\"should_show_f...  \n",
       "2  {\"background_image_opacity\":0.8,\"should_show_f...  \n",
       "3  {\"background_image_opacity\":0.8,\"should_show_f...  \n",
       "4  {\"background_image_opacity\":0.8,\"should_show_f...  "
      ]
     },
     "execution_count": 9,
     "metadata": {},
     "output_type": "execute_result"
    }
   ],
   "source": [
    "kick_train_data.head()"
   ]
  },
  {
   "cell_type": "code",
   "execution_count": 10,
   "metadata": {},
   "outputs": [],
   "source": [
    "# remove target variable\n",
    "kick_train_data_state = (kick_train_data['state'] == \"successful\").astype(int)\n",
    "kick_train_data.drop(['state'],inplace=True,axis=1)"
   ]
  },
  {
   "cell_type": "code",
   "execution_count": 11,
   "metadata": {},
   "outputs": [
    {
     "data": {
      "text/plain": [
       "\"\\nIndex(['Unnamed: 0', 'id', 'photo', 'name', 'blurb', 'goal', 'slug',\\n       'disable_communication', 'country', 'currency', 'currency_symbol',\\n       'currency_trailing_code', 'deadline', 'state_changed_at', 'created_at',\\n       'launched_at', 'static_usd_rate', 'creator', 'location', 'category',\\n       'profile', 'urls', 'source_url', 'friends', 'is_starred', 'is_backing',\\n       'permissions'],\\n\""
      ]
     },
     "execution_count": 11,
     "metadata": {},
     "output_type": "execute_result"
    }
   ],
   "source": [
    "'''\n",
    "Index(['Unnamed: 0', 'id', 'photo', 'name', 'blurb', 'goal', 'slug',\n",
    "       'disable_communication', 'country', 'currency', 'currency_symbol',\n",
    "       'currency_trailing_code', 'deadline', 'state_changed_at', 'created_at',\n",
    "       'launched_at', 'static_usd_rate', 'creator', 'location', 'category',\n",
    "       'profile', 'urls', 'source_url', 'friends', 'is_starred', 'is_backing',\n",
    "       'permissions'],\n",
    "'''\n",
    "## drop unnamed:0         drop as it is just the row number\n",
    "## drop id                drop as it is presumable just an identifier\n",
    "## photo                  drop as it appears to be a link to the place where a picture exists. Caustious on this one as maybe there are\n",
    "##                             things to learn from the photo\n",
    "## name                   drop as it is just the name and I am not doing text parsing to get sentiment and create a deep neural net\n",
    "## blurb                  KEEP - get length of blurb and use it as a feature\n",
    "## goal                   KEEP - after multiplying by static_usd_rate as in local currency  \n",
    "## state                  drop - will separate as %%%% TARGET VARIABLE %%%%\n",
    "## slug                   drop\n",
    "## disable_communication  KEEP - one hot encode \n",
    "## country                KEEP - one hot encode \n",
    "## currency?              drop - as tells us nothing more than goal once goal is converted to dollars\n",
    "## currency_symbol?       drop - as tells us nothing more than goal once goal is converted to dollars\n",
    "## currency_trailing_code drop - as it just tells us whether the currency symbol is a dollar or not\n",
    "## deadline               KEEP = month of deadline and difference from launch\n",
    "## state_changed_at       drop - one second after deadline so adds nothing\n",
    "## created_at             KEEP - used to calculate\n",
    "## launched_at            KEEP - month of launch and diff from created and diff from deadline\n",
    "## static_usd_Rate        KEEP - just multiply it by goal to create a variable in standard units\n",
    "## creator                drop\n",
    "## location               drop\n",
    "## category               KEEP -after split category and find the slug - interpret in two columns and one hot encode\n",
    "## profile                drop\n",
    "## urls                   drop as it seems to be a couple of urls only At this stage nothing to extract\n",
    "## source_url             drop - on inspection if offers nothing over what category will offer us!\n",
    "## friends                drop - all but 105 values are NaN and the 105 are a strange symbol (see below)\n",
    "## is_starred             drop - one true, 104 false and the rest NAN. Cannot impute.\n",
    "## is_backing             drop - one true, 104 false and the rest NAN. Cannot impute values\n",
    "## permissions            drop - all but 105 values are NaN and the 105 are a strange symbol (see below)"
   ]
  },
  {
   "cell_type": "code",
   "execution_count": 12,
   "metadata": {},
   "outputs": [],
   "source": [
    "# replace blurb by length of blurb\n",
    "lengthofblurb = kick_train_data['blurb'].apply(lambda x: len(str(x)))\n",
    "kick_train_data['lengthofblurb'] = lengthofblurb\n",
    "kick_train_data.drop(['blurb'],inplace=True,axis=1)"
   ]
  },
  {
   "cell_type": "code",
   "execution_count": 13,
   "metadata": {},
   "outputs": [],
   "source": [
    "# replace category, and what should be slug, by subcategory\n",
    "subcategory = []\n",
    "for entry in kick_train_data['category']:\n",
    "    #print(entry)\n",
    "    my_dict = ast.literal_eval(entry)\n",
    "    slugvalue = my_dict['slug']\n",
    "    subcategory.append(slugvalue.split('/')[1])\n",
    "kick_train_data['subcategory'] = subcategory\n",
    "kick_train_data.drop(['category'],inplace=True,axis=1)"
   ]
  },
  {
   "cell_type": "code",
   "execution_count": 14,
   "metadata": {},
   "outputs": [],
   "source": [
    "import re\n",
    "# replace category, and what should be slug, by subcategory\n",
    "blurbinprofile = []\n",
    "for entry in kick_train_data['profile']:\n",
    "    #print(entry)\n",
    "    entry = entry.replace('\"','')\n",
    "    #print(entry)\n",
    "    m = re.search(\"blurb:(.*?),\", entry)\n",
    "    blurbinprofile.append(m.group(1))\n",
    "    #my_dict = ast.literal_eval(entry)\n",
    "    #slugvalue = my_dict['blurb']\n",
    "    #blurbinprofile.append(slugvalue)\n",
    "#blurbinprofile[0:20]\n",
    "#kick_train_data['subcategory'] = subcategory\n",
    "#kick_train_data.drop(['category'],inplace=True,axis=1)\n",
    "#print(blurbinprofile[0:30])\n",
    "blurbinprofile_one_zero = [0 if i == 'null' else 1 for i in blurbinprofile ]\n",
    "#print(blurbinprofile[0:30])\n",
    "kick_train_data['blurbinprofile'] = blurbinprofile_one_zero"
   ]
  },
  {
   "cell_type": "code",
   "execution_count": 15,
   "metadata": {},
   "outputs": [],
   "source": [
    "# change goal to be in stable units\n",
    "kick_train_data['goalinusdollars'] = kick_train_data['goal'] * kick_train_data['static_usd_rate']\n",
    "#kick_train_data['goalinusdollars'] = goalinusdollars\n",
    "kick_train_data.drop(['goal'],inplace=True,axis=1)"
   ]
  },
  {
   "cell_type": "code",
   "execution_count": 16,
   "metadata": {},
   "outputs": [],
   "source": [
    "# deal with dates\n",
    "kick_train_data['deadline'] = pd.to_datetime(kick_train_data['deadline'],origin='unix',unit='s')\n",
    "kick_train_data['created_at'] = pd.to_datetime(kick_train_data['created_at'],origin='unix',unit='s')\n",
    "kick_train_data['launched_at'] = pd.to_datetime(kick_train_data['launched_at'],origin='unix',unit='s')\n",
    "kick_train_data['state_changed_at'] = pd.to_datetime(kick_train_data['state_changed_at'],origin='unix',unit='s')"
   ]
  },
  {
   "cell_type": "code",
   "execution_count": 17,
   "metadata": {},
   "outputs": [],
   "source": [
    "# deal with dates part 2\n",
    "openforfundingdiff = kick_train_data['deadline'] - kick_train_data['launched_at'] # diff between deadline and launch\n",
    "openforfundingindays = openforfundingdiff.apply(lambda x: x.days) # give me my diffindayscolumn to add to dataframe\n",
    "\n",
    "createdtolauncheddiff = kick_train_data['launched_at'] - kick_train_data['created_at'] # diff between deadline and launch\n",
    "createdtolauncheddiffindays = createdtolauncheddiff.apply(lambda x: x.days) # give me my diffindayscolumn to add to dataframe\n",
    "\n",
    "# month of deadline\n",
    "#deadlinemonth = kick_train_data['deadline'].apply(lambda x: x.month)\n",
    "\n",
    "# month of launch\n",
    "#launchmonth = kick_train_data['launched_at'].apply(lambda x: x.month)\n",
    "\n",
    "#\n",
    "kick_train_data['openforfundingindays'] = openforfundingindays\n",
    "kick_train_data['createdtolauncheddiffindays'] = createdtolauncheddiffindays\n",
    "#kick_train_data['deadlinemonth'] = deadlinemonth\n",
    "#kick_train_data['launchmonth'] = launchmonth\n",
    "\n",
    "kick_train_data.drop(['deadline'],inplace=True,axis=1)\n",
    "kick_train_data.drop(['created_at'],inplace=True,axis=1)\n",
    "kick_train_data.drop(['launched_at'],inplace=True,axis=1)\n",
    "kick_train_data.drop(['state_changed_at'],inplace=True,axis=1)"
   ]
  },
  {
   "cell_type": "code",
   "execution_count": 18,
   "metadata": {},
   "outputs": [],
   "source": [
    "## drop columns I said I should because they are no good\n",
    "#kick_train_data.drop(['Unnamed: 0'],inplace=True,axis=1)\n",
    "#kick_train_data.drop(['id'],inplace=True,axis=1)\n",
    "#kick_train_data.drop(['photo'],inplace=True,axis=1)\n",
    "#kick_train_data.drop(['name'],inplace=True,axis=1)\n",
    "#kick_train_data.drop(['slug'],inplace=True,axis=1)\n",
    "#kick_train_data.drop(['currency'],inplace=True,axis=1)\n",
    "#kick_train_data.drop(['currency_symbol'],inplace=True,axis=1)\n",
    "#kick_train_data.drop(['currency_trailing_code'],inplace=True,axis=1)\n",
    "#kick_train_data.drop(['creator'],inplace=True,axis=1)\n",
    "#kick_train_data.drop(['location'],inplace=True,axis=1)\n",
    "kick_train_data.drop(['profile'],inplace=True,axis=1)\n",
    "#kick_train_data.drop(['urls'],inplace=True,axis=1)\n",
    "#kick_train_data.drop(['source_url'],inplace=True,axis=1)\n",
    "#kick_train_data.drop(['friends'],inplace=True,axis=1)\n",
    "#kick_train_data.drop(['is_starred'],inplace=True,axis=1)\n",
    "#kick_train_data.drop(['is_backing'],inplace=True,axis=1)\n",
    "#kick_train_data.drop(['permissions'],inplace=True,axis=1)\n",
    "kick_train_data.drop(['static_usd_rate'],inplace=True,axis=1)\n",
    "kick_train_data.drop(['disable_communication'],inplace=True,axis=1)\n",
    "#kick_train_data.drop(['deadlinemonth', 'launchmonth'],inplace=True,axis=1)"
   ]
  },
  {
   "cell_type": "code",
   "execution_count": 19,
   "metadata": {},
   "outputs": [],
   "source": [
    "preencoding_kick_train_data = kick_train_data.copy(deep=True)"
   ]
  },
  {
   "cell_type": "code",
   "execution_count": 49,
   "metadata": {},
   "outputs": [
    {
     "data": {
      "text/plain": [
       "Index(['country', 'lengthofblurb', 'subcategory', 'blurbinprofile',\n",
       "       'goalinusdollars', 'openforfundingindays',\n",
       "       'createdtolauncheddiffindays'],\n",
       "      dtype='object')"
      ]
     },
     "execution_count": 49,
     "metadata": {},
     "output_type": "execute_result"
    }
   ],
   "source": [
    "preencoding_kick_train_data.columns"
   ]
  },
  {
   "cell_type": "code",
   "execution_count": 50,
   "metadata": {},
   "outputs": [],
   "source": [
    "new_var = preencoding_kick_train_data['goalinusdollars'] / preencoding_kick_train_data['openforfundingindays']"
   ]
  },
  {
   "cell_type": "code",
   "execution_count": 51,
   "metadata": {},
   "outputs": [
    {
     "data": {
      "text/plain": [
       "count    1.149330e+05\n",
       "mean     1.231762e+03\n",
       "std      4.432670e+04\n",
       "min      1.234568e-02\n",
       "25%      5.681818e+01\n",
       "50%      1.612903e+02\n",
       "75%      3.911108e+02\n",
       "max      1.171924e+07\n",
       "dtype: float64"
      ]
     },
     "execution_count": 51,
     "metadata": {},
     "output_type": "execute_result"
    }
   ],
   "source": [
    "new_var.describe()"
   ]
  },
  {
   "cell_type": "code",
   "execution_count": 20,
   "metadata": {},
   "outputs": [],
   "source": [
    "kick_train_data = pd.get_dummies(data=kick_train_data, columns = ['country'], prefix=['country'])"
   ]
  },
  {
   "cell_type": "code",
   "execution_count": 21,
   "metadata": {},
   "outputs": [],
   "source": [
    "kick_train_data = pd.get_dummies(data=kick_train_data, columns = ['subcategory'], prefix=['subcategory'])"
   ]
  },
  {
   "cell_type": "code",
   "execution_count": 22,
   "metadata": {},
   "outputs": [
    {
     "data": {
      "text/plain": [
       "Index(['lengthofblurb', 'blurbinprofile', 'goalinusdollars',\n",
       "       'openforfundingindays', 'createdtolauncheddiffindays', 'country_AT',\n",
       "       'country_AU', 'country_BE', 'country_CA', 'country_CH',\n",
       "       ...\n",
       "       'subcategory_video games', 'subcategory_weaving', 'subcategory_web',\n",
       "       'subcategory_webcomics', 'subcategory_webseries',\n",
       "       'subcategory_woodworking', 'subcategory_workshops',\n",
       "       'subcategory_world music', 'subcategory_young adult',\n",
       "       'subcategory_zines'],\n",
       "      dtype='object', length=152)"
      ]
     },
     "execution_count": 22,
     "metadata": {},
     "output_type": "execute_result"
    }
   ],
   "source": [
    "kick_train_data.columns"
   ]
  },
  {
   "cell_type": "code",
   "execution_count": 23,
   "metadata": {},
   "outputs": [],
   "source": [
    "rb = RobustScaler(quantile_range=(25, 75))"
   ]
  },
  {
   "cell_type": "markdown",
   "metadata": {},
   "source": [
    "# Scaling numerical features"
   ]
  },
  {
   "cell_type": "code",
   "execution_count": 24,
   "metadata": {},
   "outputs": [],
   "source": [
    "# super concerned about outliers so have introduced this\n",
    "# numeric variables are lengthofblurb, goalinusdollars, 'openforfundingindays' and 'createdtolauncheddiffindays'\n",
    "#rb_lengthofblurb = RobustScaler(quantile_range=(25, 75)).fit_transform(kick_train_data['lengthofblurb'].reshape(-1, 1))\n",
    "#rb_goalinusdollars = RobustScaler(quantile_range=(25, 75)).fit_transform(kick_train_data['goalinusdollars'].reshape(-1, 1))\n",
    "#rb_openforfundingindays = RobustScaler(quantile_range=(25, 75)).fit_transform(kick_train_data['openforfundingindays'].reshape(-1, 1))\n",
    "#rb_createdtolauncheddiffindays = RobustScaler(quantile_range=(25, 75)).fit_transform(kick_train_data['createdtolauncheddiffindays'].reshape(-1, 1))"
   ]
  },
  {
   "cell_type": "code",
   "execution_count": 25,
   "metadata": {},
   "outputs": [
    {
     "name": "stderr",
     "output_type": "stream",
     "text": [
      "C:\\Users\\CaveC_000\\Anaconda3\\lib\\site-packages\\ipykernel_launcher.py:1: FutureWarning: reshape is deprecated and will raise in a subsequent release. Please use .values.reshape(...) instead\n",
      "  \"\"\"Entry point for launching an IPython kernel.\n",
      "C:\\Users\\CaveC_000\\Anaconda3\\lib\\site-packages\\ipykernel_launcher.py:2: FutureWarning: reshape is deprecated and will raise in a subsequent release. Please use .values.reshape(...) instead\n",
      "  \n",
      "C:\\Users\\CaveC_000\\Anaconda3\\lib\\site-packages\\ipykernel_launcher.py:3: FutureWarning: reshape is deprecated and will raise in a subsequent release. Please use .values.reshape(...) instead\n",
      "  This is separate from the ipykernel package so we can avoid doing imports until\n",
      "C:\\Users\\CaveC_000\\Anaconda3\\lib\\site-packages\\ipykernel_launcher.py:4: FutureWarning: reshape is deprecated and will raise in a subsequent release. Please use .values.reshape(...) instead\n",
      "  after removing the cwd from sys.path.\n"
     ]
    }
   ],
   "source": [
    "rb_lengthofblurb = rb.fit_transform(kick_train_data['lengthofblurb'].reshape(-1, 1))\n",
    "rb_goalinusdollars = rb.fit_transform(kick_train_data['goalinusdollars'].reshape(-1, 1))\n",
    "rb_openforfundingindays = rb.fit_transform(kick_train_data['openforfundingindays'].reshape(-1, 1))\n",
    "rb_createdtolauncheddiffindays = rb.fit_transform(kick_train_data['createdtolauncheddiffindays'].reshape(-1, 1))"
   ]
  },
  {
   "cell_type": "code",
   "execution_count": 26,
   "metadata": {},
   "outputs": [],
   "source": [
    "kick_train_data['rb_lengthofblurb'] = rb_lengthofblurb\n",
    "kick_train_data['rb_goalinusdollars'] = rb_goalinusdollars\n",
    "kick_train_data['rb_openforfundingindays'] = rb_openforfundingindays\n",
    "kick_train_data['rb_createdtolauncheddiffindays'] = rb_createdtolauncheddiffindays"
   ]
  },
  {
   "cell_type": "code",
   "execution_count": 27,
   "metadata": {},
   "outputs": [],
   "source": [
    "kick_train_data.drop(['lengthofblurb'],inplace=True,axis=1)\n",
    "kick_train_data.drop(['goalinusdollars'],inplace=True,axis=1)\n",
    "kick_train_data.drop(['openforfundingindays'],inplace=True,axis=1)\n",
    "kick_train_data.drop(['createdtolauncheddiffindays'],inplace=True,axis=1)"
   ]
  },
  {
   "cell_type": "code",
   "execution_count": 53,
   "metadata": {},
   "outputs": [],
   "source": [
    "kick_train_data['ratio'] = new_var"
   ]
  },
  {
   "cell_type": "markdown",
   "metadata": {},
   "source": [
    "# K Nearest Neighbours classification"
   ]
  },
  {
   "cell_type": "code",
   "execution_count": 54,
   "metadata": {},
   "outputs": [
    {
     "name": "stdout",
     "output_type": "stream",
     "text": [
      "The confusion matrix: \n",
      "\n",
      "[[12984  5729]\n",
      " [ 6200  9567]]\n",
      "\n",
      "The classification report:\n",
      "\n",
      "             precision    recall  f1-score   support\n",
      "\n",
      "          0      0.677     0.694     0.685     18713\n",
      "          1      0.625     0.607     0.616     15767\n",
      "\n",
      "avg / total      0.653     0.654     0.654     34480\n",
      "\n"
     ]
    }
   ],
   "source": [
    "knn_func(kick_train_data, kick_train_data_state,num_neighbors=3)"
   ]
  },
  {
   "cell_type": "code",
   "execution_count": 52,
   "metadata": {},
   "outputs": [
    {
     "name": "stderr",
     "output_type": "stream",
     "text": [
      "C:\\Users\\CaveC_000\\Anaconda3\\lib\\site-packages\\ipykernel_launcher.py:1: FutureWarning: reshape is deprecated and will raise in a subsequent release. Please use .values.reshape(...) instead\n",
      "  \"\"\"Entry point for launching an IPython kernel.\n"
     ]
    },
    {
     "name": "stdout",
     "output_type": "stream",
     "text": [
      "The confusion matrix: \n",
      "\n",
      "[[11092  7621]\n",
      " [ 8442  7325]]\n",
      "\n",
      "The classification report:\n",
      "\n",
      "             precision    recall  f1-score   support\n",
      "\n",
      "          0      0.568     0.593     0.580     18713\n",
      "          1      0.490     0.465     0.477     15767\n",
      "\n",
      "avg / total      0.532     0.534     0.533     34480\n",
      "\n"
     ]
    }
   ],
   "source": [
    "knn_func(new_var.reshape(-1, 1), kick_train_data_state,num_neighbors=3)"
   ]
  },
  {
   "cell_type": "code",
   "execution_count": 29,
   "metadata": {},
   "outputs": [
    {
     "ename": "KeyboardInterrupt",
     "evalue": "",
     "output_type": "error",
     "traceback": [
      "\u001b[1;31m---------------------------------------------------------------------------\u001b[0m",
      "\u001b[1;31mKeyboardInterrupt\u001b[0m                         Traceback (most recent call last)",
      "\u001b[1;32m<ipython-input-29-f6729fb4849c>\u001b[0m in \u001b[0;36m<module>\u001b[1;34m()\u001b[0m\n\u001b[0;32m      8\u001b[0m \u001b[0mknn_gcv\u001b[0m \u001b[1;33m=\u001b[0m \u001b[0mGridSearchCV\u001b[0m\u001b[1;33m(\u001b[0m\u001b[0mknn\u001b[0m\u001b[1;33m,\u001b[0m \u001b[0mparam\u001b[0m\u001b[1;33m,\u001b[0m \u001b[0mcv\u001b[0m\u001b[1;33m=\u001b[0m\u001b[1;36m5\u001b[0m\u001b[1;33m)\u001b[0m\u001b[1;33m\u001b[0m\u001b[0m\n\u001b[0;32m      9\u001b[0m \u001b[1;33m\u001b[0m\u001b[0m\n\u001b[1;32m---> 10\u001b[1;33m \u001b[0mknn_gcv\u001b[0m\u001b[1;33m.\u001b[0m\u001b[0mfit\u001b[0m\u001b[1;33m(\u001b[0m\u001b[0mx_train\u001b[0m\u001b[1;33m,\u001b[0m \u001b[0my_train\u001b[0m\u001b[1;33m)\u001b[0m\u001b[1;33m\u001b[0m\u001b[0m\n\u001b[0m\u001b[0;32m     11\u001b[0m \u001b[1;33m\u001b[0m\u001b[0m\n\u001b[0;32m     12\u001b[0m \u001b[0my_test_pred\u001b[0m \u001b[1;33m=\u001b[0m \u001b[0mknn_gcv\u001b[0m\u001b[1;33m.\u001b[0m\u001b[0mpredict\u001b[0m\u001b[1;33m(\u001b[0m\u001b[0mx_test\u001b[0m\u001b[1;33m)\u001b[0m\u001b[1;33m\u001b[0m\u001b[0m\n",
      "\u001b[1;32m~\\Anaconda3\\lib\\site-packages\\sklearn\\model_selection\\_search.py\u001b[0m in \u001b[0;36mfit\u001b[1;34m(self, X, y, groups, **fit_params)\u001b[0m\n\u001b[0;32m    637\u001b[0m                                   error_score=self.error_score)\n\u001b[0;32m    638\u001b[0m           for parameters, (train, test) in product(candidate_params,\n\u001b[1;32m--> 639\u001b[1;33m                                                    cv.split(X, y, groups)))\n\u001b[0m\u001b[0;32m    640\u001b[0m \u001b[1;33m\u001b[0m\u001b[0m\n\u001b[0;32m    641\u001b[0m         \u001b[1;31m# if one choose to see train score, \"out\" will contain train score info\u001b[0m\u001b[1;33m\u001b[0m\u001b[1;33m\u001b[0m\u001b[0m\n",
      "\u001b[1;32m~\\Anaconda3\\lib\\site-packages\\sklearn\\externals\\joblib\\parallel.py\u001b[0m in \u001b[0;36m__call__\u001b[1;34m(self, iterable)\u001b[0m\n\u001b[0;32m    777\u001b[0m             \u001b[1;31m# was dispatched. In particular this covers the edge\u001b[0m\u001b[1;33m\u001b[0m\u001b[1;33m\u001b[0m\u001b[0m\n\u001b[0;32m    778\u001b[0m             \u001b[1;31m# case of Parallel used with an exhausted iterator.\u001b[0m\u001b[1;33m\u001b[0m\u001b[1;33m\u001b[0m\u001b[0m\n\u001b[1;32m--> 779\u001b[1;33m             \u001b[1;32mwhile\u001b[0m \u001b[0mself\u001b[0m\u001b[1;33m.\u001b[0m\u001b[0mdispatch_one_batch\u001b[0m\u001b[1;33m(\u001b[0m\u001b[0miterator\u001b[0m\u001b[1;33m)\u001b[0m\u001b[1;33m:\u001b[0m\u001b[1;33m\u001b[0m\u001b[0m\n\u001b[0m\u001b[0;32m    780\u001b[0m                 \u001b[0mself\u001b[0m\u001b[1;33m.\u001b[0m\u001b[0m_iterating\u001b[0m \u001b[1;33m=\u001b[0m \u001b[1;32mTrue\u001b[0m\u001b[1;33m\u001b[0m\u001b[0m\n\u001b[0;32m    781\u001b[0m             \u001b[1;32melse\u001b[0m\u001b[1;33m:\u001b[0m\u001b[1;33m\u001b[0m\u001b[0m\n",
      "\u001b[1;32m~\\Anaconda3\\lib\\site-packages\\sklearn\\externals\\joblib\\parallel.py\u001b[0m in \u001b[0;36mdispatch_one_batch\u001b[1;34m(self, iterator)\u001b[0m\n\u001b[0;32m    623\u001b[0m                 \u001b[1;32mreturn\u001b[0m \u001b[1;32mFalse\u001b[0m\u001b[1;33m\u001b[0m\u001b[0m\n\u001b[0;32m    624\u001b[0m             \u001b[1;32melse\u001b[0m\u001b[1;33m:\u001b[0m\u001b[1;33m\u001b[0m\u001b[0m\n\u001b[1;32m--> 625\u001b[1;33m                 \u001b[0mself\u001b[0m\u001b[1;33m.\u001b[0m\u001b[0m_dispatch\u001b[0m\u001b[1;33m(\u001b[0m\u001b[0mtasks\u001b[0m\u001b[1;33m)\u001b[0m\u001b[1;33m\u001b[0m\u001b[0m\n\u001b[0m\u001b[0;32m    626\u001b[0m                 \u001b[1;32mreturn\u001b[0m \u001b[1;32mTrue\u001b[0m\u001b[1;33m\u001b[0m\u001b[0m\n\u001b[0;32m    627\u001b[0m \u001b[1;33m\u001b[0m\u001b[0m\n",
      "\u001b[1;32m~\\Anaconda3\\lib\\site-packages\\sklearn\\externals\\joblib\\parallel.py\u001b[0m in \u001b[0;36m_dispatch\u001b[1;34m(self, batch)\u001b[0m\n\u001b[0;32m    586\u001b[0m         \u001b[0mdispatch_timestamp\u001b[0m \u001b[1;33m=\u001b[0m \u001b[0mtime\u001b[0m\u001b[1;33m.\u001b[0m\u001b[0mtime\u001b[0m\u001b[1;33m(\u001b[0m\u001b[1;33m)\u001b[0m\u001b[1;33m\u001b[0m\u001b[0m\n\u001b[0;32m    587\u001b[0m         \u001b[0mcb\u001b[0m \u001b[1;33m=\u001b[0m \u001b[0mBatchCompletionCallBack\u001b[0m\u001b[1;33m(\u001b[0m\u001b[0mdispatch_timestamp\u001b[0m\u001b[1;33m,\u001b[0m \u001b[0mlen\u001b[0m\u001b[1;33m(\u001b[0m\u001b[0mbatch\u001b[0m\u001b[1;33m)\u001b[0m\u001b[1;33m,\u001b[0m \u001b[0mself\u001b[0m\u001b[1;33m)\u001b[0m\u001b[1;33m\u001b[0m\u001b[0m\n\u001b[1;32m--> 588\u001b[1;33m         \u001b[0mjob\u001b[0m \u001b[1;33m=\u001b[0m \u001b[0mself\u001b[0m\u001b[1;33m.\u001b[0m\u001b[0m_backend\u001b[0m\u001b[1;33m.\u001b[0m\u001b[0mapply_async\u001b[0m\u001b[1;33m(\u001b[0m\u001b[0mbatch\u001b[0m\u001b[1;33m,\u001b[0m \u001b[0mcallback\u001b[0m\u001b[1;33m=\u001b[0m\u001b[0mcb\u001b[0m\u001b[1;33m)\u001b[0m\u001b[1;33m\u001b[0m\u001b[0m\n\u001b[0m\u001b[0;32m    589\u001b[0m         \u001b[0mself\u001b[0m\u001b[1;33m.\u001b[0m\u001b[0m_jobs\u001b[0m\u001b[1;33m.\u001b[0m\u001b[0mappend\u001b[0m\u001b[1;33m(\u001b[0m\u001b[0mjob\u001b[0m\u001b[1;33m)\u001b[0m\u001b[1;33m\u001b[0m\u001b[0m\n\u001b[0;32m    590\u001b[0m \u001b[1;33m\u001b[0m\u001b[0m\n",
      "\u001b[1;32m~\\Anaconda3\\lib\\site-packages\\sklearn\\externals\\joblib\\_parallel_backends.py\u001b[0m in \u001b[0;36mapply_async\u001b[1;34m(self, func, callback)\u001b[0m\n\u001b[0;32m    109\u001b[0m     \u001b[1;32mdef\u001b[0m \u001b[0mapply_async\u001b[0m\u001b[1;33m(\u001b[0m\u001b[0mself\u001b[0m\u001b[1;33m,\u001b[0m \u001b[0mfunc\u001b[0m\u001b[1;33m,\u001b[0m \u001b[0mcallback\u001b[0m\u001b[1;33m=\u001b[0m\u001b[1;32mNone\u001b[0m\u001b[1;33m)\u001b[0m\u001b[1;33m:\u001b[0m\u001b[1;33m\u001b[0m\u001b[0m\n\u001b[0;32m    110\u001b[0m         \u001b[1;34m\"\"\"Schedule a func to be run\"\"\"\u001b[0m\u001b[1;33m\u001b[0m\u001b[0m\n\u001b[1;32m--> 111\u001b[1;33m         \u001b[0mresult\u001b[0m \u001b[1;33m=\u001b[0m \u001b[0mImmediateResult\u001b[0m\u001b[1;33m(\u001b[0m\u001b[0mfunc\u001b[0m\u001b[1;33m)\u001b[0m\u001b[1;33m\u001b[0m\u001b[0m\n\u001b[0m\u001b[0;32m    112\u001b[0m         \u001b[1;32mif\u001b[0m \u001b[0mcallback\u001b[0m\u001b[1;33m:\u001b[0m\u001b[1;33m\u001b[0m\u001b[0m\n\u001b[0;32m    113\u001b[0m             \u001b[0mcallback\u001b[0m\u001b[1;33m(\u001b[0m\u001b[0mresult\u001b[0m\u001b[1;33m)\u001b[0m\u001b[1;33m\u001b[0m\u001b[0m\n",
      "\u001b[1;32m~\\Anaconda3\\lib\\site-packages\\sklearn\\externals\\joblib\\_parallel_backends.py\u001b[0m in \u001b[0;36m__init__\u001b[1;34m(self, batch)\u001b[0m\n\u001b[0;32m    330\u001b[0m         \u001b[1;31m# Don't delay the application, to avoid keeping the input\u001b[0m\u001b[1;33m\u001b[0m\u001b[1;33m\u001b[0m\u001b[0m\n\u001b[0;32m    331\u001b[0m         \u001b[1;31m# arguments in memory\u001b[0m\u001b[1;33m\u001b[0m\u001b[1;33m\u001b[0m\u001b[0m\n\u001b[1;32m--> 332\u001b[1;33m         \u001b[0mself\u001b[0m\u001b[1;33m.\u001b[0m\u001b[0mresults\u001b[0m \u001b[1;33m=\u001b[0m \u001b[0mbatch\u001b[0m\u001b[1;33m(\u001b[0m\u001b[1;33m)\u001b[0m\u001b[1;33m\u001b[0m\u001b[0m\n\u001b[0m\u001b[0;32m    333\u001b[0m \u001b[1;33m\u001b[0m\u001b[0m\n\u001b[0;32m    334\u001b[0m     \u001b[1;32mdef\u001b[0m \u001b[0mget\u001b[0m\u001b[1;33m(\u001b[0m\u001b[0mself\u001b[0m\u001b[1;33m)\u001b[0m\u001b[1;33m:\u001b[0m\u001b[1;33m\u001b[0m\u001b[0m\n",
      "\u001b[1;32m~\\Anaconda3\\lib\\site-packages\\sklearn\\externals\\joblib\\parallel.py\u001b[0m in \u001b[0;36m__call__\u001b[1;34m(self)\u001b[0m\n\u001b[0;32m    129\u001b[0m \u001b[1;33m\u001b[0m\u001b[0m\n\u001b[0;32m    130\u001b[0m     \u001b[1;32mdef\u001b[0m \u001b[0m__call__\u001b[0m\u001b[1;33m(\u001b[0m\u001b[0mself\u001b[0m\u001b[1;33m)\u001b[0m\u001b[1;33m:\u001b[0m\u001b[1;33m\u001b[0m\u001b[0m\n\u001b[1;32m--> 131\u001b[1;33m         \u001b[1;32mreturn\u001b[0m \u001b[1;33m[\u001b[0m\u001b[0mfunc\u001b[0m\u001b[1;33m(\u001b[0m\u001b[1;33m*\u001b[0m\u001b[0margs\u001b[0m\u001b[1;33m,\u001b[0m \u001b[1;33m**\u001b[0m\u001b[0mkwargs\u001b[0m\u001b[1;33m)\u001b[0m \u001b[1;32mfor\u001b[0m \u001b[0mfunc\u001b[0m\u001b[1;33m,\u001b[0m \u001b[0margs\u001b[0m\u001b[1;33m,\u001b[0m \u001b[0mkwargs\u001b[0m \u001b[1;32min\u001b[0m \u001b[0mself\u001b[0m\u001b[1;33m.\u001b[0m\u001b[0mitems\u001b[0m\u001b[1;33m]\u001b[0m\u001b[1;33m\u001b[0m\u001b[0m\n\u001b[0m\u001b[0;32m    132\u001b[0m \u001b[1;33m\u001b[0m\u001b[0m\n\u001b[0;32m    133\u001b[0m     \u001b[1;32mdef\u001b[0m \u001b[0m__len__\u001b[0m\u001b[1;33m(\u001b[0m\u001b[0mself\u001b[0m\u001b[1;33m)\u001b[0m\u001b[1;33m:\u001b[0m\u001b[1;33m\u001b[0m\u001b[0m\n",
      "\u001b[1;32m~\\Anaconda3\\lib\\site-packages\\sklearn\\externals\\joblib\\parallel.py\u001b[0m in \u001b[0;36m<listcomp>\u001b[1;34m(.0)\u001b[0m\n\u001b[0;32m    129\u001b[0m \u001b[1;33m\u001b[0m\u001b[0m\n\u001b[0;32m    130\u001b[0m     \u001b[1;32mdef\u001b[0m \u001b[0m__call__\u001b[0m\u001b[1;33m(\u001b[0m\u001b[0mself\u001b[0m\u001b[1;33m)\u001b[0m\u001b[1;33m:\u001b[0m\u001b[1;33m\u001b[0m\u001b[0m\n\u001b[1;32m--> 131\u001b[1;33m         \u001b[1;32mreturn\u001b[0m \u001b[1;33m[\u001b[0m\u001b[0mfunc\u001b[0m\u001b[1;33m(\u001b[0m\u001b[1;33m*\u001b[0m\u001b[0margs\u001b[0m\u001b[1;33m,\u001b[0m \u001b[1;33m**\u001b[0m\u001b[0mkwargs\u001b[0m\u001b[1;33m)\u001b[0m \u001b[1;32mfor\u001b[0m \u001b[0mfunc\u001b[0m\u001b[1;33m,\u001b[0m \u001b[0margs\u001b[0m\u001b[1;33m,\u001b[0m \u001b[0mkwargs\u001b[0m \u001b[1;32min\u001b[0m \u001b[0mself\u001b[0m\u001b[1;33m.\u001b[0m\u001b[0mitems\u001b[0m\u001b[1;33m]\u001b[0m\u001b[1;33m\u001b[0m\u001b[0m\n\u001b[0m\u001b[0;32m    132\u001b[0m \u001b[1;33m\u001b[0m\u001b[0m\n\u001b[0;32m    133\u001b[0m     \u001b[1;32mdef\u001b[0m \u001b[0m__len__\u001b[0m\u001b[1;33m(\u001b[0m\u001b[0mself\u001b[0m\u001b[1;33m)\u001b[0m\u001b[1;33m:\u001b[0m\u001b[1;33m\u001b[0m\u001b[0m\n",
      "\u001b[1;32m~\\Anaconda3\\lib\\site-packages\\sklearn\\model_selection\\_validation.py\u001b[0m in \u001b[0;36m_fit_and_score\u001b[1;34m(estimator, X, y, scorer, train, test, verbose, parameters, fit_params, return_train_score, return_parameters, return_n_test_samples, return_times, error_score)\u001b[0m\n\u001b[0;32m    490\u001b[0m         \u001b[1;32mif\u001b[0m \u001b[0mreturn_train_score\u001b[0m\u001b[1;33m:\u001b[0m\u001b[1;33m\u001b[0m\u001b[0m\n\u001b[0;32m    491\u001b[0m             train_scores = _score(estimator, X_train, y_train, scorer,\n\u001b[1;32m--> 492\u001b[1;33m                                   is_multimetric)\n\u001b[0m\u001b[0;32m    493\u001b[0m \u001b[1;33m\u001b[0m\u001b[0m\n\u001b[0;32m    494\u001b[0m     \u001b[1;32mif\u001b[0m \u001b[0mverbose\u001b[0m \u001b[1;33m>\u001b[0m \u001b[1;36m2\u001b[0m\u001b[1;33m:\u001b[0m\u001b[1;33m\u001b[0m\u001b[0m\n",
      "\u001b[1;32m~\\Anaconda3\\lib\\site-packages\\sklearn\\model_selection\\_validation.py\u001b[0m in \u001b[0;36m_score\u001b[1;34m(estimator, X_test, y_test, scorer, is_multimetric)\u001b[0m\n\u001b[0;32m    521\u001b[0m     \"\"\"\n\u001b[0;32m    522\u001b[0m     \u001b[1;32mif\u001b[0m \u001b[0mis_multimetric\u001b[0m\u001b[1;33m:\u001b[0m\u001b[1;33m\u001b[0m\u001b[0m\n\u001b[1;32m--> 523\u001b[1;33m         \u001b[1;32mreturn\u001b[0m \u001b[0m_multimetric_score\u001b[0m\u001b[1;33m(\u001b[0m\u001b[0mestimator\u001b[0m\u001b[1;33m,\u001b[0m \u001b[0mX_test\u001b[0m\u001b[1;33m,\u001b[0m \u001b[0my_test\u001b[0m\u001b[1;33m,\u001b[0m \u001b[0mscorer\u001b[0m\u001b[1;33m)\u001b[0m\u001b[1;33m\u001b[0m\u001b[0m\n\u001b[0m\u001b[0;32m    524\u001b[0m     \u001b[1;32melse\u001b[0m\u001b[1;33m:\u001b[0m\u001b[1;33m\u001b[0m\u001b[0m\n\u001b[0;32m    525\u001b[0m         \u001b[1;32mif\u001b[0m \u001b[0my_test\u001b[0m \u001b[1;32mis\u001b[0m \u001b[1;32mNone\u001b[0m\u001b[1;33m:\u001b[0m\u001b[1;33m\u001b[0m\u001b[0m\n",
      "\u001b[1;32m~\\Anaconda3\\lib\\site-packages\\sklearn\\model_selection\\_validation.py\u001b[0m in \u001b[0;36m_multimetric_score\u001b[1;34m(estimator, X_test, y_test, scorers)\u001b[0m\n\u001b[0;32m    551\u001b[0m             \u001b[0mscore\u001b[0m \u001b[1;33m=\u001b[0m \u001b[0mscorer\u001b[0m\u001b[1;33m(\u001b[0m\u001b[0mestimator\u001b[0m\u001b[1;33m,\u001b[0m \u001b[0mX_test\u001b[0m\u001b[1;33m)\u001b[0m\u001b[1;33m\u001b[0m\u001b[0m\n\u001b[0;32m    552\u001b[0m         \u001b[1;32melse\u001b[0m\u001b[1;33m:\u001b[0m\u001b[1;33m\u001b[0m\u001b[0m\n\u001b[1;32m--> 553\u001b[1;33m             \u001b[0mscore\u001b[0m \u001b[1;33m=\u001b[0m \u001b[0mscorer\u001b[0m\u001b[1;33m(\u001b[0m\u001b[0mestimator\u001b[0m\u001b[1;33m,\u001b[0m \u001b[0mX_test\u001b[0m\u001b[1;33m,\u001b[0m \u001b[0my_test\u001b[0m\u001b[1;33m)\u001b[0m\u001b[1;33m\u001b[0m\u001b[0m\n\u001b[0m\u001b[0;32m    554\u001b[0m \u001b[1;33m\u001b[0m\u001b[0m\n\u001b[0;32m    555\u001b[0m         \u001b[1;32mif\u001b[0m \u001b[0mhasattr\u001b[0m\u001b[1;33m(\u001b[0m\u001b[0mscore\u001b[0m\u001b[1;33m,\u001b[0m \u001b[1;34m'item'\u001b[0m\u001b[1;33m)\u001b[0m\u001b[1;33m:\u001b[0m\u001b[1;33m\u001b[0m\u001b[0m\n",
      "\u001b[1;32m~\\Anaconda3\\lib\\site-packages\\sklearn\\metrics\\scorer.py\u001b[0m in \u001b[0;36m_passthrough_scorer\u001b[1;34m(estimator, *args, **kwargs)\u001b[0m\n\u001b[0;32m    242\u001b[0m \u001b[1;32mdef\u001b[0m \u001b[0m_passthrough_scorer\u001b[0m\u001b[1;33m(\u001b[0m\u001b[0mestimator\u001b[0m\u001b[1;33m,\u001b[0m \u001b[1;33m*\u001b[0m\u001b[0margs\u001b[0m\u001b[1;33m,\u001b[0m \u001b[1;33m**\u001b[0m\u001b[0mkwargs\u001b[0m\u001b[1;33m)\u001b[0m\u001b[1;33m:\u001b[0m\u001b[1;33m\u001b[0m\u001b[0m\n\u001b[0;32m    243\u001b[0m     \u001b[1;34m\"\"\"Function that wraps estimator.score\"\"\"\u001b[0m\u001b[1;33m\u001b[0m\u001b[0m\n\u001b[1;32m--> 244\u001b[1;33m     \u001b[1;32mreturn\u001b[0m \u001b[0mestimator\u001b[0m\u001b[1;33m.\u001b[0m\u001b[0mscore\u001b[0m\u001b[1;33m(\u001b[0m\u001b[1;33m*\u001b[0m\u001b[0margs\u001b[0m\u001b[1;33m,\u001b[0m \u001b[1;33m**\u001b[0m\u001b[0mkwargs\u001b[0m\u001b[1;33m)\u001b[0m\u001b[1;33m\u001b[0m\u001b[0m\n\u001b[0m\u001b[0;32m    245\u001b[0m \u001b[1;33m\u001b[0m\u001b[0m\n\u001b[0;32m    246\u001b[0m \u001b[1;33m\u001b[0m\u001b[0m\n",
      "\u001b[1;32m~\\Anaconda3\\lib\\site-packages\\sklearn\\base.py\u001b[0m in \u001b[0;36mscore\u001b[1;34m(self, X, y, sample_weight)\u001b[0m\n\u001b[0;32m    347\u001b[0m         \"\"\"\n\u001b[0;32m    348\u001b[0m         \u001b[1;32mfrom\u001b[0m \u001b[1;33m.\u001b[0m\u001b[0mmetrics\u001b[0m \u001b[1;32mimport\u001b[0m \u001b[0maccuracy_score\u001b[0m\u001b[1;33m\u001b[0m\u001b[0m\n\u001b[1;32m--> 349\u001b[1;33m         \u001b[1;32mreturn\u001b[0m \u001b[0maccuracy_score\u001b[0m\u001b[1;33m(\u001b[0m\u001b[0my\u001b[0m\u001b[1;33m,\u001b[0m \u001b[0mself\u001b[0m\u001b[1;33m.\u001b[0m\u001b[0mpredict\u001b[0m\u001b[1;33m(\u001b[0m\u001b[0mX\u001b[0m\u001b[1;33m)\u001b[0m\u001b[1;33m,\u001b[0m \u001b[0msample_weight\u001b[0m\u001b[1;33m=\u001b[0m\u001b[0msample_weight\u001b[0m\u001b[1;33m)\u001b[0m\u001b[1;33m\u001b[0m\u001b[0m\n\u001b[0m\u001b[0;32m    350\u001b[0m \u001b[1;33m\u001b[0m\u001b[0m\n\u001b[0;32m    351\u001b[0m \u001b[1;33m\u001b[0m\u001b[0m\n",
      "\u001b[1;32m~\\Anaconda3\\lib\\site-packages\\sklearn\\neighbors\\classification.py\u001b[0m in \u001b[0;36mpredict\u001b[1;34m(self, X)\u001b[0m\n\u001b[0;32m    143\u001b[0m         \u001b[0mX\u001b[0m \u001b[1;33m=\u001b[0m \u001b[0mcheck_array\u001b[0m\u001b[1;33m(\u001b[0m\u001b[0mX\u001b[0m\u001b[1;33m,\u001b[0m \u001b[0maccept_sparse\u001b[0m\u001b[1;33m=\u001b[0m\u001b[1;34m'csr'\u001b[0m\u001b[1;33m)\u001b[0m\u001b[1;33m\u001b[0m\u001b[0m\n\u001b[0;32m    144\u001b[0m \u001b[1;33m\u001b[0m\u001b[0m\n\u001b[1;32m--> 145\u001b[1;33m         \u001b[0mneigh_dist\u001b[0m\u001b[1;33m,\u001b[0m \u001b[0mneigh_ind\u001b[0m \u001b[1;33m=\u001b[0m \u001b[0mself\u001b[0m\u001b[1;33m.\u001b[0m\u001b[0mkneighbors\u001b[0m\u001b[1;33m(\u001b[0m\u001b[0mX\u001b[0m\u001b[1;33m)\u001b[0m\u001b[1;33m\u001b[0m\u001b[0m\n\u001b[0m\u001b[0;32m    146\u001b[0m \u001b[1;33m\u001b[0m\u001b[0m\n\u001b[0;32m    147\u001b[0m         \u001b[0mclasses_\u001b[0m \u001b[1;33m=\u001b[0m \u001b[0mself\u001b[0m\u001b[1;33m.\u001b[0m\u001b[0mclasses_\u001b[0m\u001b[1;33m\u001b[0m\u001b[0m\n",
      "\u001b[1;32m~\\Anaconda3\\lib\\site-packages\\sklearn\\neighbors\\base.py\u001b[0m in \u001b[0;36mkneighbors\u001b[1;34m(self, X, n_neighbors, return_distance)\u001b[0m\n\u001b[0;32m    383\u001b[0m                 delayed(self._tree.query, check_pickle=False)(\n\u001b[0;32m    384\u001b[0m                     X[s], n_neighbors, return_distance)\n\u001b[1;32m--> 385\u001b[1;33m                 \u001b[1;32mfor\u001b[0m \u001b[0ms\u001b[0m \u001b[1;32min\u001b[0m \u001b[0mgen_even_slices\u001b[0m\u001b[1;33m(\u001b[0m\u001b[0mX\u001b[0m\u001b[1;33m.\u001b[0m\u001b[0mshape\u001b[0m\u001b[1;33m[\u001b[0m\u001b[1;36m0\u001b[0m\u001b[1;33m]\u001b[0m\u001b[1;33m,\u001b[0m \u001b[0mn_jobs\u001b[0m\u001b[1;33m)\u001b[0m\u001b[1;33m\u001b[0m\u001b[0m\n\u001b[0m\u001b[0;32m    386\u001b[0m             )\n\u001b[0;32m    387\u001b[0m             \u001b[1;32mif\u001b[0m \u001b[0mreturn_distance\u001b[0m\u001b[1;33m:\u001b[0m\u001b[1;33m\u001b[0m\u001b[0m\n",
      "\u001b[1;32m~\\Anaconda3\\lib\\site-packages\\sklearn\\externals\\joblib\\parallel.py\u001b[0m in \u001b[0;36m__call__\u001b[1;34m(self, iterable)\u001b[0m\n\u001b[0;32m    777\u001b[0m             \u001b[1;31m# was dispatched. In particular this covers the edge\u001b[0m\u001b[1;33m\u001b[0m\u001b[1;33m\u001b[0m\u001b[0m\n\u001b[0;32m    778\u001b[0m             \u001b[1;31m# case of Parallel used with an exhausted iterator.\u001b[0m\u001b[1;33m\u001b[0m\u001b[1;33m\u001b[0m\u001b[0m\n\u001b[1;32m--> 779\u001b[1;33m             \u001b[1;32mwhile\u001b[0m \u001b[0mself\u001b[0m\u001b[1;33m.\u001b[0m\u001b[0mdispatch_one_batch\u001b[0m\u001b[1;33m(\u001b[0m\u001b[0miterator\u001b[0m\u001b[1;33m)\u001b[0m\u001b[1;33m:\u001b[0m\u001b[1;33m\u001b[0m\u001b[0m\n\u001b[0m\u001b[0;32m    780\u001b[0m                 \u001b[0mself\u001b[0m\u001b[1;33m.\u001b[0m\u001b[0m_iterating\u001b[0m \u001b[1;33m=\u001b[0m \u001b[1;32mTrue\u001b[0m\u001b[1;33m\u001b[0m\u001b[0m\n\u001b[0;32m    781\u001b[0m             \u001b[1;32melse\u001b[0m\u001b[1;33m:\u001b[0m\u001b[1;33m\u001b[0m\u001b[0m\n",
      "\u001b[1;32m~\\Anaconda3\\lib\\site-packages\\sklearn\\externals\\joblib\\parallel.py\u001b[0m in \u001b[0;36mdispatch_one_batch\u001b[1;34m(self, iterator)\u001b[0m\n\u001b[0;32m    623\u001b[0m                 \u001b[1;32mreturn\u001b[0m \u001b[1;32mFalse\u001b[0m\u001b[1;33m\u001b[0m\u001b[0m\n\u001b[0;32m    624\u001b[0m             \u001b[1;32melse\u001b[0m\u001b[1;33m:\u001b[0m\u001b[1;33m\u001b[0m\u001b[0m\n\u001b[1;32m--> 625\u001b[1;33m                 \u001b[0mself\u001b[0m\u001b[1;33m.\u001b[0m\u001b[0m_dispatch\u001b[0m\u001b[1;33m(\u001b[0m\u001b[0mtasks\u001b[0m\u001b[1;33m)\u001b[0m\u001b[1;33m\u001b[0m\u001b[0m\n\u001b[0m\u001b[0;32m    626\u001b[0m                 \u001b[1;32mreturn\u001b[0m \u001b[1;32mTrue\u001b[0m\u001b[1;33m\u001b[0m\u001b[0m\n\u001b[0;32m    627\u001b[0m \u001b[1;33m\u001b[0m\u001b[0m\n",
      "\u001b[1;32m~\\Anaconda3\\lib\\site-packages\\sklearn\\externals\\joblib\\parallel.py\u001b[0m in \u001b[0;36m_dispatch\u001b[1;34m(self, batch)\u001b[0m\n\u001b[0;32m    586\u001b[0m         \u001b[0mdispatch_timestamp\u001b[0m \u001b[1;33m=\u001b[0m \u001b[0mtime\u001b[0m\u001b[1;33m.\u001b[0m\u001b[0mtime\u001b[0m\u001b[1;33m(\u001b[0m\u001b[1;33m)\u001b[0m\u001b[1;33m\u001b[0m\u001b[0m\n\u001b[0;32m    587\u001b[0m         \u001b[0mcb\u001b[0m \u001b[1;33m=\u001b[0m \u001b[0mBatchCompletionCallBack\u001b[0m\u001b[1;33m(\u001b[0m\u001b[0mdispatch_timestamp\u001b[0m\u001b[1;33m,\u001b[0m \u001b[0mlen\u001b[0m\u001b[1;33m(\u001b[0m\u001b[0mbatch\u001b[0m\u001b[1;33m)\u001b[0m\u001b[1;33m,\u001b[0m \u001b[0mself\u001b[0m\u001b[1;33m)\u001b[0m\u001b[1;33m\u001b[0m\u001b[0m\n\u001b[1;32m--> 588\u001b[1;33m         \u001b[0mjob\u001b[0m \u001b[1;33m=\u001b[0m \u001b[0mself\u001b[0m\u001b[1;33m.\u001b[0m\u001b[0m_backend\u001b[0m\u001b[1;33m.\u001b[0m\u001b[0mapply_async\u001b[0m\u001b[1;33m(\u001b[0m\u001b[0mbatch\u001b[0m\u001b[1;33m,\u001b[0m \u001b[0mcallback\u001b[0m\u001b[1;33m=\u001b[0m\u001b[0mcb\u001b[0m\u001b[1;33m)\u001b[0m\u001b[1;33m\u001b[0m\u001b[0m\n\u001b[0m\u001b[0;32m    589\u001b[0m         \u001b[0mself\u001b[0m\u001b[1;33m.\u001b[0m\u001b[0m_jobs\u001b[0m\u001b[1;33m.\u001b[0m\u001b[0mappend\u001b[0m\u001b[1;33m(\u001b[0m\u001b[0mjob\u001b[0m\u001b[1;33m)\u001b[0m\u001b[1;33m\u001b[0m\u001b[0m\n\u001b[0;32m    590\u001b[0m \u001b[1;33m\u001b[0m\u001b[0m\n",
      "\u001b[1;32m~\\Anaconda3\\lib\\site-packages\\sklearn\\externals\\joblib\\_parallel_backends.py\u001b[0m in \u001b[0;36mapply_async\u001b[1;34m(self, func, callback)\u001b[0m\n\u001b[0;32m    109\u001b[0m     \u001b[1;32mdef\u001b[0m \u001b[0mapply_async\u001b[0m\u001b[1;33m(\u001b[0m\u001b[0mself\u001b[0m\u001b[1;33m,\u001b[0m \u001b[0mfunc\u001b[0m\u001b[1;33m,\u001b[0m \u001b[0mcallback\u001b[0m\u001b[1;33m=\u001b[0m\u001b[1;32mNone\u001b[0m\u001b[1;33m)\u001b[0m\u001b[1;33m:\u001b[0m\u001b[1;33m\u001b[0m\u001b[0m\n\u001b[0;32m    110\u001b[0m         \u001b[1;34m\"\"\"Schedule a func to be run\"\"\"\u001b[0m\u001b[1;33m\u001b[0m\u001b[0m\n\u001b[1;32m--> 111\u001b[1;33m         \u001b[0mresult\u001b[0m \u001b[1;33m=\u001b[0m \u001b[0mImmediateResult\u001b[0m\u001b[1;33m(\u001b[0m\u001b[0mfunc\u001b[0m\u001b[1;33m)\u001b[0m\u001b[1;33m\u001b[0m\u001b[0m\n\u001b[0m\u001b[0;32m    112\u001b[0m         \u001b[1;32mif\u001b[0m \u001b[0mcallback\u001b[0m\u001b[1;33m:\u001b[0m\u001b[1;33m\u001b[0m\u001b[0m\n\u001b[0;32m    113\u001b[0m             \u001b[0mcallback\u001b[0m\u001b[1;33m(\u001b[0m\u001b[0mresult\u001b[0m\u001b[1;33m)\u001b[0m\u001b[1;33m\u001b[0m\u001b[0m\n",
      "\u001b[1;32m~\\Anaconda3\\lib\\site-packages\\sklearn\\externals\\joblib\\_parallel_backends.py\u001b[0m in \u001b[0;36m__init__\u001b[1;34m(self, batch)\u001b[0m\n\u001b[0;32m    330\u001b[0m         \u001b[1;31m# Don't delay the application, to avoid keeping the input\u001b[0m\u001b[1;33m\u001b[0m\u001b[1;33m\u001b[0m\u001b[0m\n\u001b[0;32m    331\u001b[0m         \u001b[1;31m# arguments in memory\u001b[0m\u001b[1;33m\u001b[0m\u001b[1;33m\u001b[0m\u001b[0m\n\u001b[1;32m--> 332\u001b[1;33m         \u001b[0mself\u001b[0m\u001b[1;33m.\u001b[0m\u001b[0mresults\u001b[0m \u001b[1;33m=\u001b[0m \u001b[0mbatch\u001b[0m\u001b[1;33m(\u001b[0m\u001b[1;33m)\u001b[0m\u001b[1;33m\u001b[0m\u001b[0m\n\u001b[0m\u001b[0;32m    333\u001b[0m \u001b[1;33m\u001b[0m\u001b[0m\n\u001b[0;32m    334\u001b[0m     \u001b[1;32mdef\u001b[0m \u001b[0mget\u001b[0m\u001b[1;33m(\u001b[0m\u001b[0mself\u001b[0m\u001b[1;33m)\u001b[0m\u001b[1;33m:\u001b[0m\u001b[1;33m\u001b[0m\u001b[0m\n",
      "\u001b[1;32m~\\Anaconda3\\lib\\site-packages\\sklearn\\externals\\joblib\\parallel.py\u001b[0m in \u001b[0;36m__call__\u001b[1;34m(self)\u001b[0m\n\u001b[0;32m    129\u001b[0m \u001b[1;33m\u001b[0m\u001b[0m\n\u001b[0;32m    130\u001b[0m     \u001b[1;32mdef\u001b[0m \u001b[0m__call__\u001b[0m\u001b[1;33m(\u001b[0m\u001b[0mself\u001b[0m\u001b[1;33m)\u001b[0m\u001b[1;33m:\u001b[0m\u001b[1;33m\u001b[0m\u001b[0m\n\u001b[1;32m--> 131\u001b[1;33m         \u001b[1;32mreturn\u001b[0m \u001b[1;33m[\u001b[0m\u001b[0mfunc\u001b[0m\u001b[1;33m(\u001b[0m\u001b[1;33m*\u001b[0m\u001b[0margs\u001b[0m\u001b[1;33m,\u001b[0m \u001b[1;33m**\u001b[0m\u001b[0mkwargs\u001b[0m\u001b[1;33m)\u001b[0m \u001b[1;32mfor\u001b[0m \u001b[0mfunc\u001b[0m\u001b[1;33m,\u001b[0m \u001b[0margs\u001b[0m\u001b[1;33m,\u001b[0m \u001b[0mkwargs\u001b[0m \u001b[1;32min\u001b[0m \u001b[0mself\u001b[0m\u001b[1;33m.\u001b[0m\u001b[0mitems\u001b[0m\u001b[1;33m]\u001b[0m\u001b[1;33m\u001b[0m\u001b[0m\n\u001b[0m\u001b[0;32m    132\u001b[0m \u001b[1;33m\u001b[0m\u001b[0m\n\u001b[0;32m    133\u001b[0m     \u001b[1;32mdef\u001b[0m \u001b[0m__len__\u001b[0m\u001b[1;33m(\u001b[0m\u001b[0mself\u001b[0m\u001b[1;33m)\u001b[0m\u001b[1;33m:\u001b[0m\u001b[1;33m\u001b[0m\u001b[0m\n",
      "\u001b[1;32m~\\Anaconda3\\lib\\site-packages\\sklearn\\externals\\joblib\\parallel.py\u001b[0m in \u001b[0;36m<listcomp>\u001b[1;34m(.0)\u001b[0m\n\u001b[0;32m    129\u001b[0m \u001b[1;33m\u001b[0m\u001b[0m\n\u001b[0;32m    130\u001b[0m     \u001b[1;32mdef\u001b[0m \u001b[0m__call__\u001b[0m\u001b[1;33m(\u001b[0m\u001b[0mself\u001b[0m\u001b[1;33m)\u001b[0m\u001b[1;33m:\u001b[0m\u001b[1;33m\u001b[0m\u001b[0m\n\u001b[1;32m--> 131\u001b[1;33m         \u001b[1;32mreturn\u001b[0m \u001b[1;33m[\u001b[0m\u001b[0mfunc\u001b[0m\u001b[1;33m(\u001b[0m\u001b[1;33m*\u001b[0m\u001b[0margs\u001b[0m\u001b[1;33m,\u001b[0m \u001b[1;33m**\u001b[0m\u001b[0mkwargs\u001b[0m\u001b[1;33m)\u001b[0m \u001b[1;32mfor\u001b[0m \u001b[0mfunc\u001b[0m\u001b[1;33m,\u001b[0m \u001b[0margs\u001b[0m\u001b[1;33m,\u001b[0m \u001b[0mkwargs\u001b[0m \u001b[1;32min\u001b[0m \u001b[0mself\u001b[0m\u001b[1;33m.\u001b[0m\u001b[0mitems\u001b[0m\u001b[1;33m]\u001b[0m\u001b[1;33m\u001b[0m\u001b[0m\n\u001b[0m\u001b[0;32m    132\u001b[0m \u001b[1;33m\u001b[0m\u001b[0m\n\u001b[0;32m    133\u001b[0m     \u001b[1;32mdef\u001b[0m \u001b[0m__len__\u001b[0m\u001b[1;33m(\u001b[0m\u001b[0mself\u001b[0m\u001b[1;33m)\u001b[0m\u001b[1;33m:\u001b[0m\u001b[1;33m\u001b[0m\u001b[0m\n",
      "\u001b[1;31mKeyboardInterrupt\u001b[0m: "
     ]
    }
   ],
   "source": [
    "param = {'n_neighbors': list(range(3,10))}\n",
    "\n",
    "x_train, x_test, y_train, y_test = train_test_split(kick_train_data, kick_train_data_state, \n",
    "                                                    test_size=0.3, random_state=5175,\n",
    "                                                    stratify=kick_train_data_state)\n",
    "knn = KNeighborsClassifier()\n",
    "\n",
    "knn_gcv = GridSearchCV(knn, param, cv=5)\n",
    "\n",
    "knn_gcv.fit(x_train, y_train)\n",
    "\n",
    "y_test_pred = knn_gcv.predict(x_test)\n",
    "\n",
    "print(\"The confusion matrix: \\n\")\n",
    "print(confusion_matrix(y_test, y_test_pred))\n",
    "print(\"\\nThe classification report:\\n\")\n",
    "print(classification_report(y_test, y_test_pred, digits=3))"
   ]
  },
  {
   "cell_type": "code",
   "execution_count": 76,
   "metadata": {},
   "outputs": [],
   "source": [
    "## 15 Jul Sunday evening. \n",
    "## 1. DONE - Tidy up so robust scaler + country + subcategpry still there. Everything else goes to end.\n",
    "## 2. Need to add in a feature well correlated with \"True\" on the state - good predictor of success!\n",
    "## 3. DONE - Add in a proper hyper parameter search rather than me guessing (3-10 for K)\n",
    "## 4. If time:- look at different distance metric. Could use manhattan which seemed to be suggested on line.\n",
    "## 5. lengthofblurb - is this offering anything try with and without"
   ]
  },
  {
   "cell_type": "markdown",
   "metadata": {},
   "source": [
    "## try knn with a subset of variable"
   ]
  },
  {
   "cell_type": "code",
   "execution_count": 25,
   "metadata": {},
   "outputs": [
    {
     "name": "stdout",
     "output_type": "stream",
     "text": [
      "The confusion matrix: \n",
      "\n",
      "[[15566  3147]\n",
      " [ 7565  8202]]\n",
      "\n",
      "The classification report:\n",
      "\n",
      "             precision    recall  f1-score   support\n",
      "\n",
      "          0      0.673     0.832     0.744     18713\n",
      "          1      0.723     0.520     0.605     15767\n",
      "\n",
      "avg / total      0.696     0.689     0.680     34480\n",
      "\n"
     ]
    }
   ],
   "source": [
    "knn_func(kick_train_data, kick_train_data_state, 4)"
   ]
  },
  {
   "cell_type": "code",
   "execution_count": 26,
   "metadata": {},
   "outputs": [
    {
     "name": "stdout",
     "output_type": "stream",
     "text": [
      "The confusion matrix: \n",
      "\n",
      "[[13777  4936]\n",
      " [ 5784  9983]]\n",
      "\n",
      "The classification report:\n",
      "\n",
      "             precision    recall  f1-score   support\n",
      "\n",
      "          0      0.704     0.736     0.720     18713\n",
      "          1      0.669     0.633     0.651     15767\n",
      "\n",
      "avg / total      0.688     0.689     0.688     34480\n",
      "\n"
     ]
    }
   ],
   "source": [
    "knn_func(kick_train_data, kick_train_data_state, 5)"
   ]
  },
  {
   "cell_type": "code",
   "execution_count": 27,
   "metadata": {},
   "outputs": [
    {
     "name": "stdout",
     "output_type": "stream",
     "text": [
      "The confusion matrix: \n",
      "\n",
      "[[15341  3372]\n",
      " [ 7170  8597]]\n",
      "\n",
      "The classification report:\n",
      "\n",
      "             precision    recall  f1-score   support\n",
      "\n",
      "          0      0.681     0.820     0.744     18713\n",
      "          1      0.718     0.545     0.620     15767\n",
      "\n",
      "avg / total      0.698     0.694     0.687     34480\n",
      "\n"
     ]
    }
   ],
   "source": [
    "knn_func(kick_train_data, kick_train_data_state, 6)"
   ]
  },
  {
   "cell_type": "code",
   "execution_count": 28,
   "metadata": {},
   "outputs": [
    {
     "name": "stdout",
     "output_type": "stream",
     "text": [
      "The confusion matrix: \n",
      "\n",
      "[[13979  4734]\n",
      " [ 5777  9990]]\n",
      "\n",
      "The classification report:\n",
      "\n",
      "             precision    recall  f1-score   support\n",
      "\n",
      "          0      0.708     0.747     0.727     18713\n",
      "          1      0.678     0.634     0.655     15767\n",
      "\n",
      "avg / total      0.694     0.695     0.694     34480\n",
      "\n"
     ]
    }
   ],
   "source": [
    "knn_func(kick_train_data, kick_train_data_state, 7)"
   ]
  },
  {
   "cell_type": "code",
   "execution_count": 29,
   "metadata": {},
   "outputs": [
    {
     "name": "stdout",
     "output_type": "stream",
     "text": [
      "The confusion matrix: \n",
      "\n",
      "[[15177  3536]\n",
      " [ 6904  8863]]\n",
      "\n",
      "The classification report:\n",
      "\n",
      "             precision    recall  f1-score   support\n",
      "\n",
      "          0      0.687     0.811     0.744     18713\n",
      "          1      0.715     0.562     0.629     15767\n",
      "\n",
      "avg / total      0.700     0.697     0.692     34480\n",
      "\n"
     ]
    }
   ],
   "source": [
    "knn_func(kick_train_data, kick_train_data_state, 8)"
   ]
  },
  {
   "cell_type": "code",
   "execution_count": 30,
   "metadata": {},
   "outputs": [
    {
     "name": "stdout",
     "output_type": "stream",
     "text": [
      "The confusion matrix: \n",
      "\n",
      "[[14068  4645]\n",
      " [ 5804  9963]]\n",
      "\n",
      "The classification report:\n",
      "\n",
      "             precision    recall  f1-score   support\n",
      "\n",
      "          0      0.708     0.752     0.729     18713\n",
      "          1      0.682     0.632     0.656     15767\n",
      "\n",
      "avg / total      0.696     0.697     0.696     34480\n",
      "\n"
     ]
    }
   ],
   "source": [
    "knn_func(kick_train_data, kick_train_data_state, 9)"
   ]
  },
  {
   "cell_type": "code",
   "execution_count": 26,
   "metadata": {},
   "outputs": [
    {
     "name": "stdout",
     "output_type": "stream",
     "text": [
      "The confusion matrix: \n",
      "\n",
      "[[15979  2734]\n",
      " [ 6365  9402]]\n",
      "\n",
      "The classification report:\n",
      "\n",
      "             precision    recall  f1-score   support\n",
      "\n",
      "          0      0.715     0.854     0.778     18713\n",
      "          1      0.775     0.596     0.674     15767\n",
      "\n",
      "avg / total      0.742     0.736     0.731     34480\n",
      "\n"
     ]
    }
   ],
   "source": [
    "knn_func(kick_train_data, kick_train_data_state, 10)"
   ]
  },
  {
   "cell_type": "code",
   "execution_count": 25,
   "metadata": {},
   "outputs": [],
   "source": [
    "contvaronly = kick_train_data[['rb_goalinusdollars', 'rb_openforfundingindays',\n",
    "       'rb_createdtolauncheddiffindays','rb_lengthofblurb']]"
   ]
  },
  {
   "cell_type": "code",
   "execution_count": 33,
   "metadata": {},
   "outputs": [
    {
     "name": "stdout",
     "output_type": "stream",
     "text": [
      "The confusion matrix: \n",
      "\n",
      "[[12019  6694]\n",
      " [ 7188  8579]]\n",
      "\n",
      "The classification report:\n",
      "\n",
      "             precision    recall  f1-score   support\n",
      "\n",
      "          0      0.626     0.642     0.634     18713\n",
      "          1      0.562     0.544     0.553     15767\n",
      "\n",
      "avg / total      0.596     0.597     0.597     34480\n",
      "\n"
     ]
    }
   ],
   "source": [
    "knn_func(contvaronly, kick_train_data_state)"
   ]
  },
  {
   "cell_type": "code",
   "execution_count": 34,
   "metadata": {},
   "outputs": [],
   "source": [
    "featureset2 = preencoding_kick_train_data[['goalinusdollars']]"
   ]
  },
  {
   "cell_type": "code",
   "execution_count": 35,
   "metadata": {},
   "outputs": [
    {
     "name": "stdout",
     "output_type": "stream",
     "text": [
      "The confusion matrix: \n",
      "\n",
      "[[11503  7210]\n",
      " [ 8524  7243]]\n",
      "\n",
      "The classification report:\n",
      "\n",
      "             precision    recall  f1-score   support\n",
      "\n",
      "          0      0.574     0.615     0.594     18713\n",
      "          1      0.501     0.459     0.479     15767\n",
      "\n",
      "avg / total      0.541     0.544     0.541     34480\n",
      "\n"
     ]
    }
   ],
   "source": [
    "knn_func(featureset2, kick_train_data_state)"
   ]
  },
  {
   "cell_type": "code",
   "execution_count": 33,
   "metadata": {},
   "outputs": [],
   "source": [
    "preencoding_kick_train_data['kick_train_data_state'] = kick_train_data_state"
   ]
  },
  {
   "cell_type": "code",
   "execution_count": 34,
   "metadata": {},
   "outputs": [
    {
     "data": {
      "text/plain": [
       "Index(['disable_communication', 'country', 'lengthofblurb', 'supercategory',\n",
       "       'subcategory', 'goalinusdollars', 'openforfundingindays',\n",
       "       'createdtolauncheddiffindays', 'deadlinemonth', 'launchmonth',\n",
       "       'kick_train_data_state'],\n",
       "      dtype='object')"
      ]
     },
     "execution_count": 34,
     "metadata": {},
     "output_type": "execute_result"
    }
   ],
   "source": [
    "preencoding_kick_train_data.columns"
   ]
  },
  {
   "cell_type": "code",
   "execution_count": 35,
   "metadata": {},
   "outputs": [
    {
     "data": {
      "text/plain": [
       "country\n",
       "AT    0.236842\n",
       "AU    0.345037\n",
       "BE    0.327044\n",
       "CA    0.379401\n",
       "CH    0.261438\n",
       "DE    0.248421\n",
       "DK    0.388704\n",
       "ES    0.222649\n",
       "FR    0.383901\n",
       "GB    0.440038\n",
       "HK    0.273973\n",
       "IE    0.317073\n",
       "IT    0.165379\n",
       "LU    0.533333\n",
       "MX    0.221902\n",
       "NL    0.267341\n",
       "NO    0.354369\n",
       "NZ    0.365854\n",
       "SE    0.384314\n",
       "SG    0.329412\n",
       "US    0.476050\n",
       "Name: kick_train_data_state, dtype: float64"
      ]
     },
     "execution_count": 35,
     "metadata": {},
     "output_type": "execute_result"
    }
   ],
   "source": [
    "grouped = preencoding_kick_train_data.groupby('country')\n",
    "a = grouped['kick_train_data_state'].agg(np.sum)\n",
    "b = grouped['kick_train_data_state'].agg(np.size)\n",
    "a/b"
   ]
  },
  {
   "cell_type": "code",
   "execution_count": 33,
   "metadata": {},
   "outputs": [
    {
     "data": {
      "text/plain": [
       "disable_communication\n",
       "False    0.459005\n",
       "True     0.000000\n",
       "Name: kick_train_data_state, dtype: float64"
      ]
     },
     "execution_count": 33,
     "metadata": {},
     "output_type": "execute_result"
    }
   ],
   "source": [
    "grouped = preencoding_kick_train_data.groupby('disable_communication')\n",
    "a = grouped['kick_train_data_state'].agg(np.sum)\n",
    "b = grouped['kick_train_data_state'].agg(np.size)\n",
    "a/b"
   ]
  },
  {
   "cell_type": "code",
   "execution_count": 34,
   "metadata": {},
   "outputs": [
    {
     "data": {
      "text/plain": [
       "supercategory\n",
       "art             0.441517\n",
       "comics          0.548794\n",
       "crafts          0.218962\n",
       "dance           0.533546\n",
       "design          0.675542\n",
       "fashion         0.261105\n",
       "film & video    0.524560\n",
       "food            0.211516\n",
       "games           0.540126\n",
       "journalism      0.171400\n",
       "music           0.532871\n",
       "photography     0.279384\n",
       "publishing      0.447627\n",
       "technology      0.000000\n",
       "Name: kick_train_data_state, dtype: float64"
      ]
     },
     "execution_count": 34,
     "metadata": {},
     "output_type": "execute_result"
    }
   ],
   "source": [
    "grouped = preencoding_kick_train_data.groupby('supercategory')\n",
    "a = grouped['kick_train_data_state'].agg(np.sum)\n",
    "b = grouped['kick_train_data_state'].agg(np.size)\n",
    "a/b"
   ]
  },
  {
   "cell_type": "code",
   "execution_count": 35,
   "metadata": {},
   "outputs": [
    {
     "data": {
      "text/plain": [
       "deadlinemonth\n",
       "1     0.439810\n",
       "2     0.459780\n",
       "3     0.486979\n",
       "4     0.484048\n",
       "5     0.482713\n",
       "6     0.472377\n",
       "7     0.426556\n",
       "8     0.382000\n",
       "9     0.428540\n",
       "10    0.472385\n",
       "11    0.489901\n",
       "12    0.471230\n",
       "Name: kick_train_data_state, dtype: float64"
      ]
     },
     "execution_count": 35,
     "metadata": {},
     "output_type": "execute_result"
    }
   ],
   "source": [
    "grouped = preencoding_kick_train_data.groupby('deadlinemonth')\n",
    "a = grouped['kick_train_data_state'].agg(np.sum)\n",
    "b = grouped['kick_train_data_state'].agg(np.size)\n",
    "a/b"
   ]
  },
  {
   "cell_type": "code",
   "execution_count": 36,
   "metadata": {},
   "outputs": [
    {
     "data": {
      "text/plain": [
       "launchmonth\n",
       "1     0.451645\n",
       "2     0.480539\n",
       "3     0.486995\n",
       "4     0.486564\n",
       "5     0.465264\n",
       "6     0.431589\n",
       "7     0.372034\n",
       "8     0.437067\n",
       "9     0.478236\n",
       "10    0.487237\n",
       "11    0.481745\n",
       "12    0.440517\n",
       "Name: kick_train_data_state, dtype: float64"
      ]
     },
     "execution_count": 36,
     "metadata": {},
     "output_type": "execute_result"
    }
   ],
   "source": [
    "grouped = preencoding_kick_train_data.groupby('launchmonth')\n",
    "a = grouped['kick_train_data_state'].agg(np.sum)\n",
    "b = grouped['kick_train_data_state'].agg(np.size)\n",
    "a/b"
   ]
  },
  {
   "cell_type": "code",
   "execution_count": 37,
   "metadata": {},
   "outputs": [
    {
     "data": {
      "text/plain": [
       "subcategory\n",
       "3d printing          0.000000\n",
       "academic             0.210438\n",
       "accessories          0.300166\n",
       "action               0.137787\n",
       "animals              0.250000\n",
       "animation            0.265938\n",
       "anthologies          0.649789\n",
       "apparel              0.260469\n",
       "apps                 0.000000\n",
       "architecture         0.217131\n",
       "art books            0.507019\n",
       "audio                0.246324\n",
       "bacon                0.205128\n",
       "blues                0.411429\n",
       "calendars            0.391753\n",
       "candles              0.106383\n",
       "children's books     0.438078\n",
       "childrenswear        0.180921\n",
       "chiptune             0.750000\n",
       "civic design         0.336735\n",
       "classical music      0.642697\n",
       "comedy               0.372563\n",
       "comic books          0.565821\n",
       "community gardens    0.238095\n",
       "cookbooks            0.234463\n",
       "country & folk       0.632720\n",
       "couture              0.177515\n",
       "crochet              0.178218\n",
       "digital art          1.000000\n",
       "diy                  0.157825\n",
       "                       ...   \n",
       "residencies          0.729167\n",
       "restaurants          0.159777\n",
       "rock                 0.710558\n",
       "romance              0.304688\n",
       "science fiction      0.339583\n",
       "sculpture            0.377778\n",
       "shorts               0.990663\n",
       "small batch          0.309544\n",
       "spaces               0.296758\n",
       "stationery           0.369863\n",
       "tabletop games       0.948673\n",
       "taxidermy            0.454545\n",
       "television           0.154887\n",
       "textiles             0.264045\n",
       "thrillers            0.260684\n",
       "translations         0.242105\n",
       "typography           0.535211\n",
       "vegan                0.318919\n",
       "video                0.128676\n",
       "video art            0.291045\n",
       "video games          0.462687\n",
       "weaving              0.314815\n",
       "web                  0.142684\n",
       "webcomics            0.514218\n",
       "webseries            0.348643\n",
       "woodworking          0.230668\n",
       "workshops            0.300971\n",
       "world music          0.446931\n",
       "young adult          0.199262\n",
       "zines                0.439834\n",
       "Name: kick_train_data_state, Length: 126, dtype: float64"
      ]
     },
     "execution_count": 37,
     "metadata": {},
     "output_type": "execute_result"
    }
   ],
   "source": [
    "grouped = preencoding_kick_train_data.groupby('subcategory')\n",
    "a = grouped['kick_train_data_state'].agg(np.sum)\n",
    "b = grouped['kick_train_data_state'].agg(np.size)\n",
    "a/b"
   ]
  },
  {
   "cell_type": "code",
   "execution_count": 38,
   "metadata": {},
   "outputs": [
    {
     "data": {
      "text/plain": [
       "Index(['disable_communication', 'country', 'lengthofblurb', 'supercategory',\n",
       "       'subcategory', 'goalinusdollars', 'openforfundingindays',\n",
       "       'createdtolauncheddiffindays', 'deadlinemonth', 'launchmonth',\n",
       "       'kick_train_data_state'],\n",
       "      dtype='object')"
      ]
     },
     "execution_count": 38,
     "metadata": {},
     "output_type": "execute_result"
    }
   ],
   "source": [
    "preencoding_kick_train_data.columns"
   ]
  },
  {
   "cell_type": "code",
   "execution_count": 39,
   "metadata": {},
   "outputs": [
    {
     "data": {
      "image/png": "[encoded data removed]",
      "text/plain": [
       "<matplotlib.figure.Figure at 0x1ded6adc588>"
      ]
     },
     "metadata": {},
     "output_type": "display_data"
    }
   ],
   "source": [
    "ax = sea.boxplot(x=\"kick_train_data_state\", y='goalinusdollars', \n",
    "                  data=preencoding_kick_train_data)"
   ]
  },
  {
   "cell_type": "code",
   "execution_count": 40,
   "metadata": {},
   "outputs": [
    {
     "data": {
      "image/png": "[encoded data removed]",
      "text/plain": [
       "<matplotlib.figure.Figure at 0x1dec796d780>"
      ]
     },
     "metadata": {},
     "output_type": "display_data"
    }
   ],
   "source": [
    "ax = sea.boxplot(x=\"kick_train_data_state\", y='openforfundingindays', \n",
    "                  data=preencoding_kick_train_data)"
   ]
  },
  {
   "cell_type": "code",
   "execution_count": 41,
   "metadata": {},
   "outputs": [
    {
     "data": {
      "image/png": "[encoded data removed]",
      "text/plain": [
       "<matplotlib.figure.Figure at 0x1def47d37f0>"
      ]
     },
     "metadata": {},
     "output_type": "display_data"
    }
   ],
   "source": [
    "ax = sea.boxplot(x=\"kick_train_data_state\", y='createdtolauncheddiffindays', \n",
    "                  data=preencoding_kick_train_data)"
   ]
  },
  {
   "cell_type": "code",
   "execution_count": 42,
   "metadata": {},
   "outputs": [
    {
     "data": {
      "image/png": "[encoded data removed]",
      "text/plain": [
       "<matplotlib.figure.Figure at 0x1dee9395b00>"
      ]
     },
     "metadata": {},
     "output_type": "display_data"
    }
   ],
   "source": [
    "ax = sea.boxplot(x=\"kick_train_data_state\", y='lengthofblurb', \n",
    "                  data=preencoding_kick_train_data)"
   ]
  },
  {
   "cell_type": "code",
   "execution_count": 43,
   "metadata": {},
   "outputs": [],
   "source": [
    "features = preencoding_kick_train_data[['goalinusdollars', 'openforfundingindays', 'lengthofblurb','subcategory','country']]"
   ]
  },
  {
   "cell_type": "code",
   "execution_count": 44,
   "metadata": {},
   "outputs": [],
   "source": [
    "features = pd.get_dummies(data=features, columns = ['subcategory', 'country'], prefix=['subcategory', 'country'])"
   ]
  },
  {
   "cell_type": "code",
   "execution_count": 45,
   "metadata": {},
   "outputs": [
    {
     "name": "stdout",
     "output_type": "stream",
     "text": [
      "The confusion matrix: \n",
      "\n",
      "[[11775  6938]\n",
      " [ 7417  8350]]\n",
      "\n",
      "The classification report:\n",
      "\n",
      "             precision    recall  f1-score   support\n",
      "\n",
      "          0      0.614     0.629     0.621     18713\n",
      "          1      0.546     0.530     0.538     15767\n",
      "\n",
      "avg / total      0.583     0.584     0.583     34480\n",
      "\n"
     ]
    }
   ],
   "source": [
    "knn_func(features, kick_train_data_state)"
   ]
  },
  {
   "cell_type": "code",
   "execution_count": 55,
   "metadata": {},
   "outputs": [
    {
     "name": "stdout",
     "output_type": "stream",
     "text": [
      "The confusion matrix: \n",
      "\n",
      "[[18056   657]\n",
      " [ 8268  7499]]\n",
      "\n",
      "The classification report:\n",
      "\n",
      "             precision    recall  f1-score   support\n",
      "\n",
      "          0      0.686     0.965     0.802     18713\n",
      "          1      0.919     0.476     0.627     15767\n",
      "\n",
      "avg / total      0.793     0.741     0.722     34480\n",
      "\n"
     ]
    }
   ],
   "source": [
    "from sklearn.tree import DecisionTreeClassifier\n",
    "\n",
    "x_train, x_test, y_train, y_test = train_test_split(kick_train_data, kick_train_data_state, \n",
    "                                                    test_size=0.3, random_state=5175,\n",
    "                                                    stratify=kick_train_data_state)\n",
    "dtc = DecisionTreeClassifier(max_depth=10)\n",
    "\n",
    "dtc.fit(x_train, y_train)\n",
    "\n",
    "y_test_pred2 = dtc.predict(x_test)\n",
    "\n",
    "print(\"The confusion matrix: \\n\")\n",
    "print(confusion_matrix(y_test, y_test_pred2))\n",
    "print(\"\\nThe classification report:\\n\")\n",
    "print(classification_report(y_test, y_test_pred2, digits=3))"
   ]
  },
  {
   "cell_type": "code",
   "execution_count": 56,
   "metadata": {},
   "outputs": [
    {
     "name": "stdout",
     "output_type": "stream",
     "text": [
      "[[18056   657]\n",
      " [ 8268  7499]]\n",
      "             precision    recall  f1-score   support\n",
      "\n",
      "          0       0.91      0.04      0.08     18713\n",
      "          1       0.47      0.99      0.64     15767\n",
      "\n",
      "avg / total       0.71      0.48      0.34     34480\n",
      "\n"
     ]
    }
   ],
   "source": [
    "from sklearn.naive_bayes import GaussianNB\n",
    "\n",
    "gnb = GaussianNB()\n",
    "\n",
    "gnb.fit(x_train, y_train)\n",
    "\n",
    "y_pred_gnb = gnb.predict(x_test)\n",
    "\n",
    "print(confusion_matrix(y_test, y_test_pred2))\n",
    "\n",
    "print(classification_report(y_test, y_pred_gnb))\n"
   ]
  },
  {
   "cell_type": "code",
   "execution_count": 59,
   "metadata": {},
   "outputs": [],
   "source": [
    "from sklearn.discriminant_analysis import LinearDiscriminantAnalysis, QuadraticDiscriminantAnalysis"
   ]
  },
  {
   "cell_type": "code",
   "execution_count": 66,
   "metadata": {},
   "outputs": [
    {
     "data": {
      "text/plain": [
       "Index(['blurbinprofile', 'country_AT', 'country_AU', 'country_BE',\n",
       "       'country_CA', 'country_CH', 'country_DE', 'country_DK', 'country_ES',\n",
       "       'country_FR',\n",
       "       ...\n",
       "       'subcategory_woodworking', 'subcategory_workshops',\n",
       "       'subcategory_world music', 'subcategory_young adult',\n",
       "       'subcategory_zines', 'rb_lengthofblurb', 'rb_goalinusdollars',\n",
       "       'rb_openforfundingindays', 'rb_createdtolauncheddiffindays', 'ratio'],\n",
       "      dtype='object', length=153)"
      ]
     },
     "execution_count": 66,
     "metadata": {},
     "output_type": "execute_result"
    }
   ],
   "source": [
    "kick_train_data.columns"
   ]
  },
  {
   "cell_type": "code",
   "execution_count": 67,
   "metadata": {},
   "outputs": [],
   "source": [
    "# remove this just checking collinearity\n",
    "kick_train_data.drop(['rb_openforfundingindays'],inplace=True,axis=1)\n",
    "kick_train_data.drop(['rb_goalinusdollars'],inplace=True,axis=1)"
   ]
  },
  {
   "cell_type": "code",
   "execution_count": 68,
   "metadata": {},
   "outputs": [
    {
     "name": "stdout",
     "output_type": "stream",
     "text": [
      "             precision    recall  f1-score   support\n",
      "\n",
      "          0      0.719     0.914     0.805     18713\n",
      "          1      0.849     0.577     0.687     15767\n",
      "\n",
      "avg / total      0.779     0.760     0.751     34480\n",
      "\n"
     ]
    }
   ],
   "source": [
    "x_train, x_test, y_train, y_test = train_test_split(kick_train_data, kick_train_data_state, \n",
    "                                                    test_size=0.3, random_state=5175,\n",
    "                                                    stratify=kick_train_data_state)\n",
    "\n",
    "\n",
    "lda = LinearDiscriminantAnalysis(solver='lsqr')\n",
    "lda.fit(x_train, y_train)\n",
    "\n",
    "y_pred_lda = lda.predict(x_test)\n",
    "print(classification_report(y_test, y_pred_lda, digits=3))"
   ]
  },
  {
   "cell_type": "code",
   "execution_count": 62,
   "metadata": {},
   "outputs": [
    {
     "name": "stderr",
     "output_type": "stream",
     "text": [
      "C:\\Users\\CaveC_000\\Anaconda3\\lib\\site-packages\\sklearn\\discriminant_analysis.py:682: UserWarning: Variables are collinear\n",
      "  warnings.warn(\"Variables are collinear\")\n"
     ]
    },
    {
     "name": "stdout",
     "output_type": "stream",
     "text": [
      "             precision    recall  f1-score   support\n",
      "\n",
      "          0      0.917     0.055     0.103     18713\n",
      "          1      0.470     0.994     0.638     15767\n",
      "\n",
      "avg / total      0.712     0.484     0.348     34480\n",
      "\n"
     ]
    }
   ],
   "source": [
    "qda = QuadraticDiscriminantAnalysis(reg_param=0.1)\n",
    "qda.fit(x_train, y_train)\n",
    "\n",
    "y_pred_qda = qda.predict(x_test)\n",
    "print(classification_report(y_test, y_pred_qda, digits=3))\n"
   ]
  },
  {
   "cell_type": "markdown",
   "metadata": {},
   "source": [
    "### Redundant Code"
   ]
  },
  {
   "cell_type": "code",
   "execution_count": null,
   "metadata": {},
   "outputs": [],
   "source": [
    "# replace category, and what should be slug, by two useful varibles\n",
    "supercategory = []\n",
    "subcategory = []\n",
    "for entry in kick_train_data['category']:\n",
    "    my_dict = ast.literal_eval(entry)\n",
    "    slugvalue = my_dict['slug']\n",
    "    supercategory.append(slugvalue.split('/')[0])\n",
    "    subcategory.append(slugvalue.split('/')[1])\n",
    "kick_train_data['supercategory'] = supercategory\n",
    "kick_train_data['subcategory'] = subcategory\n",
    "kick_train_data.drop(['category'],inplace=True,axis=1)"
   ]
  },
  {
   "cell_type": "code",
   "execution_count": null,
   "metadata": {},
   "outputs": [],
   "source": [
    "# upon investigation I am leaving these out but leaving in the code so I can reference it.\n",
    "# kick_train_data = pd.get_dummies(data=kick_train_data, columns = ['deadlinemonth', 'launchmonth'], prefix=['deadlinemonth', 'launchmonth'])"
   ]
  },
  {
   "cell_type": "code",
   "execution_count": null,
   "metadata": {},
   "outputs": [],
   "source": [
    "#kick_train_data = pd.get_dummies(data=kick_train_data, columns = ['disable_communication', 'country'], prefix=['disable_communication', 'country'])\n",
    "# originally had both these in but removing \"disable_communication\""
   ]
  },
  {
   "cell_type": "code",
   "execution_count": null,
   "metadata": {},
   "outputs": [],
   "source": [
    "#kick_train_data = pd.get_dummies(data=kick_train_data, columns = ['supercategory', 'subcategory'], prefix=['supercategory', 'subcategory'])"
   ]
  },
  {
   "cell_type": "code",
   "execution_count": null,
   "metadata": {},
   "outputs": [],
   "source": [
    "ss_lengthofblurb = StandardScaler().fit_transform(kick_train_data['lengthofblurb'].reshape(-1, 1))\n",
    "ss_goalinusdollars = StandardScaler().fit_transform(kick_train_data['goalinusdollars'].reshape(-1, 1))\n",
    "ss_openforfundingindays = StandardScaler().fit_transform(kick_train_data['openforfundingindays'].reshape(-1, 1))\n",
    "ss_createdtolauncheddiffindays = StandardScaler().fit_transform(kick_train_data['createdtolauncheddiffindays'].reshape(-1, 1))\n",
    "kick_train_data['ss_lengthofblurb'] = ss_lengthofblurb\n",
    "kick_train_data['ss_goalinusdollars'] = ss_goalinusdollars\n",
    "kick_train_data['ss_openforfundingindays'] = ss_openforfundingindays\n",
    "kick_train_data['ss_createdtolauncheddiffindays'] = ss_createdtolauncheddiffindays"
   ]
  },
  {
   "cell_type": "code",
   "execution_count": null,
   "metadata": {},
   "outputs": [],
   "source": [
    "kick_train_data.drop(['ss_lengthofblurb'],inplace=True,axis=1)\n",
    "kick_train_data.drop(['ss_goalinusdollars'],inplace=True,axis=1)\n",
    "kick_train_data.drop(['ss_openforfundingindays'],inplace=True,axis=1)\n",
    "kick_train_data.drop(['ss_createdtolauncheddiffindays'],inplace=True,axis=1)"
   ]
  },
  {
   "cell_type": "code",
   "execution_count": null,
   "metadata": {},
   "outputs": [],
   "source": [
    "kick_train_data.drop(['supercategory_art', 'supercategory_comics',\n",
    "       'supercategory_crafts', 'supercategory_dance', 'supercategory_design',\n",
    "       'supercategory_fashion', 'supercategory_film & video',\n",
    "       'supercategory_food', 'supercategory_games', 'supercategory_journalism',\n",
    "       'supercategory_music', 'supercategory_photography',\n",
    "       'supercategory_publishing', 'supercategory_technology'],inplace=True,axis=1)"
   ]
  },
  {
   "cell_type": "code",
   "execution_count": null,
   "metadata": {},
   "outputs": [],
   "source": [
    "kick_train_data.drop(['supercategory'],inplace=True,axis=1)"
   ]
  }
 ],
 "metadata": {
  "kernelspec": {
   "display_name": "Python 3",
   "language": "python",
   "name": "python3"
  },
  "language_info": {
   "codemirror_mode": {
    "name": "ipython",
    "version": 3
   },
   "file_extension": ".py",
   "mimetype": "text/x-python",
   "name": "python",
   "nbconvert_exporter": "python",
   "pygments_lexer": "ipython3",
   "version": "3.7.1"
  }
 },
 "nbformat": 4,
 "nbformat_minor": 2
}
